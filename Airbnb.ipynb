{
 "cells": [
  {
   "cell_type": "markdown",
   "metadata": {},
   "source": [
    "# Packages, dataset, and variable names"
   ]
  },
  {
   "cell_type": "code",
   "execution_count": 338,
   "metadata": {},
   "outputs": [],
   "source": [
    "import warnings\n",
    "warnings.filterwarnings('ignore')\n",
    "\n",
    "import pandas as pd\n",
    "import numpy as np\n",
    "import matplotlib.pyplot as plt"
   ]
  },
  {
   "cell_type": "code",
   "execution_count": 339,
   "metadata": {},
   "outputs": [],
   "source": [
    "# Datasets\n",
    "train = pd.read_csv('train.csv').drop(columns='Id')\n",
    "test = pd.read_csv('test.csv').drop(columns='Id')"
   ]
  },
  {
   "cell_type": "code",
   "execution_count": 340,
   "metadata": {},
   "outputs": [],
   "source": [
    "# Variables\n",
    "response = ['price']\n",
    "\n",
    "categorical = ['host_is_superhost', 'host_identity_verified', 'property_type', 'room_type',\n",
    "               'instant_bookable', 'is_business_travel_ready', 'cancellation_policy']\n",
    "\n",
    "continuous = ['host_total_listings_count', 'security_deposit', 'cleaning_fee', 'extra_people',\n",
    "              'minimum_nights','maximum_nights']\n",
    "\n",
    "discrete = ['accommodates', 'bathrooms', 'bedrooms', 'beds']\n",
    "\n",
    "reviews = ['number_of_reviews', 'review_scores_rating', 'review_scores_accuracy', \n",
    "           'review_scores_cleanliness', 'review_scores_checkin', 'review_scores_communication', \n",
    "           'review_scores_location', 'review_scores_value', 'reviews_per_month']\n",
    "\n",
    "coordinates = ['latitude', 'longitude']\n",
    "\n",
    "predictors = categorical + continuous + discrete + reviews + coordinates"
   ]
  },
  {
   "cell_type": "markdown",
   "metadata": {},
   "source": [
    "# EDA\n",
    "Minimal EDA in this Notebook - see previous notebooks"
   ]
  },
  {
   "cell_type": "code",
   "execution_count": 341,
   "metadata": {},
   "outputs": [],
   "source": [
    "# EDA to help determine logs\n",
    "#def hist(series):\n",
    "#    fig, ax = plt.subplots()\n",
    "#    sns.distplot(series, ax=ax,\n",
    "#                 hist_kws={'alpha': 0.75,\n",
    "#                           'edgecolor':'black',\n",
    "#                           'color': sns.color_palette('Greens')[-1]},  \n",
    "#                 kde_kws={'color': 'black', 'alpha': 0.9})\n",
    "#    return plt.show()\n",
    "#\n",
    "#for i in data.columns:\n",
    "#    hist(data[i])"
   ]
  },
  {
   "cell_type": "code",
   "execution_count": 342,
   "metadata": {},
   "outputs": [],
   "source": [
    "## Potential interactions - update continuous and dummy variable accordingly\n",
    "#sns.lmplot('security_deposit', 'price', data=data_temp, hue='is_business_travel_ready', size=6, aspect=1.2, scatter_kws={'s': 30}, ci=None)\n",
    "#plt.show()"
   ]
  },
  {
   "cell_type": "markdown",
   "metadata": {},
   "source": [
    "# Data Processing / Engineering / Scaling"
   ]
  },
  {
   "cell_type": "code",
   "execution_count": 343,
   "metadata": {},
   "outputs": [],
   "source": [
    "def impute(data):\n",
    "    '''\n",
    "    Imputes missing data in test / train sets for Airbnb data\n",
    "    '''\n",
    "    \n",
    "    # Categoricals\n",
    "    data['host_is_superhost'].fillna(value='f', inplace=True)\n",
    "    data['host_identity_verified'].fillna(value='f', inplace=True)\n",
    "\n",
    "    # No costs\n",
    "    data['security_deposit'].fillna(value=0, inplace=True)\n",
    "    data['cleaning_fee'].fillna(value=0, inplace=True)\n",
    "\n",
    "    # Medians\n",
    "    for i in discrete+continuous:\n",
    "        data[i].fillna(value=np.nanmedian(data[i]), inplace=True)\n",
    "\n",
    "    # Reviews\n",
    "    zero_reviews = data[reviews].loc[data['number_of_reviews'] == 0]\n",
    "    zero_reviews.fillna(value=0, inplace=True)\n",
    "\n",
    "    nonzero_reviews = data[reviews].loc[data['number_of_reviews'] > 0]\n",
    "    data_reviews = pd.concat([zero_reviews, nonzero_reviews], axis=0).sort_index()\n",
    "\n",
    "    for i in data_reviews.columns:\n",
    "        data_reviews[i].fillna(value=np.nanmedian(data_reviews[i]), inplace=True)\n",
    "\n",
    "    data = data.drop(columns=data[reviews].columns)\n",
    "    data = pd.concat([data, data_reviews], axis=1)\n",
    "    \n",
    "    return data"
   ]
  },
  {
   "cell_type": "code",
   "execution_count": 344,
   "metadata": {},
   "outputs": [],
   "source": [
    "from math import radians, cos, sin, asin, sqrt\n",
    "\n",
    "def great_circle_dist(lat1, lon1, lat2, lon2):\n",
    "    '''\n",
    "    Function to calculate great circle distance between two points, using Haversine formula\n",
    "    '''\n",
    "    \n",
    "    lat1, lon1, lat2, lon2 = map(radians, [lat1, lon1, lat2, lon2])\n",
    "\n",
    "    dlon = lon2 - lon1 \n",
    "    dlat = lat2 - lat1 \n",
    "    a = sin(dlat/2)**2 + cos(lat1) * cos(lat2) * sin(dlon/2)**2\n",
    "    c = 2 * asin(sqrt(a)) \n",
    "    \n",
    "    dist = 6371 * c # in km's\n",
    "    return dist"
   ]
  },
  {
   "cell_type": "code",
   "execution_count": 345,
   "metadata": {},
   "outputs": [],
   "source": [
    "def engineer(data):\n",
    "    '''\n",
    "    Feature engineering (encoding, transforming, and creating new variables)\n",
    "    '''\n",
    "    \n",
    "    # One-hot encoding\n",
    "    dummies = pd.get_dummies(data[categorical], columns=categorical, drop_first=True)\n",
    "    data = data.drop(columns=data[categorical].columns)\n",
    "    data = pd.concat([data, dummies], axis=1)\n",
    "\n",
    "    # Distance\n",
    "    syd_lat, syd_lon = -33.8587377, 151.210686 # Syd Opera House\n",
    "\n",
    "    distance = []\n",
    "    for i in np.arange(len(data)):\n",
    "        lat = data['latitude'].iloc[i]\n",
    "        lon = data['longitude'].iloc[i]\n",
    "\n",
    "        dist = great_circle_dist(syd_lat, syd_lon, lat, lon)\n",
    "        distance.append(dist)\n",
    "\n",
    "    distance = pd.DataFrame(distance, columns=['distance'])\n",
    "    data = pd.concat([data, distance], axis=1)\n",
    "    \n",
    "    # New predictors\n",
    "    data['has_review'] = (data.number_of_reviews > 0).astype(int)\n",
    "    data['fee_per_person'] = (data['security_deposit'] + data['cleaning_fee']) / data['accommodates']\n",
    "    data['beds_per_person'] = data['beds'] / data['accommodates']\n",
    "    data['bathrooms_per_person'] = data['bathrooms'] / data['accommodates']\n",
    "    data['bedrooms_per_person'] = data['bedrooms'] / data['accommodates']\n",
    "    data['beds_per_bedrooms'] = data['beds'] / data['bedrooms']\n",
    "    data['bathrooms_per_bedroom'] = data['bathrooms'] / data['bedrooms']\n",
    "    data['extra_people_vs_accommodates'] = data['extra_people'] / data['accommodates']\n",
    "\n",
    "    review_combination = ['review_scores_accuracy', 'review_scores_cleanliness', 'review_scores_checkin',\n",
    "                          'review_scores_communication', 'review_scores_location', 'review_scores_value']\n",
    "    data['average_review'] = data[review_combination].mean(axis=1)\n",
    "    \n",
    "    # Interactions (based on EDA)\n",
    "    data['fee_per_person:is_business_tavel_ready'] = data['fee_per_person'] * data['is_business_travel_ready_t']\n",
    "    data['cleaning_fee:is_business_tavel_ready'] = data['cleaning_fee'] * data['is_business_travel_ready_t']\n",
    "    data['security_deposit:is_business_tavel_ready'] = data['security_deposit'] * data['is_business_travel_ready_t']\n",
    "    data['accommodates:is_business_tavel_ready'] = data['accommodates'] * data['is_business_travel_ready_t']\n",
    "    \n",
    "    data['fee_per_person:instant_bookable'] = data['fee_per_person'] * data['instant_bookable_t']\n",
    "    data['review_scores_rating:instant_bookable'] = data['review_scores_rating'] * data['instant_bookable_t']\n",
    "    data['average_review:instant_bookable'] = data['review_scores_rating'] * data['instant_bookable_t']\n",
    "    \n",
    "    data['fee_per_person:host_identity_verified'] = data['fee_per_person'] * data['host_identity_verified_t']\n",
    "    data['security_deposit:host_identity_verified'] = data['security_deposit'] * data['host_identity_verified_t']\n",
    "    data['review_scores_rating:host_identity_verified_t'] = data['review_scores_rating'] * data['host_identity_verified_t']\n",
    "    \n",
    "    data['cleaning_fee:has_review'] = data['cleaning_fee'] * data['has_review']\n",
    "    data['security_deposit:has_review'] = data['security_deposit'] * data['has_review']\n",
    "    data['fee_per_person:has_review'] = data['fee_per_person'] * data['has_review']\n",
    "    data['distance:has_review'] = data['distance'] * data['has_review']\n",
    "    \n",
    "    data['accommodates:host_is_superhost_t'] = data['accommodates'] * data['host_is_superhost_t']\n",
    "    data['extra_people:host_is_superhost_t'] = data['extra_people'] * data['host_is_superhost_t']\n",
    "        \n",
    "    # Log transformations (determined with EDA)\n",
    "    pred_to_log = ['security_deposit', 'cleaning_fee', 'minimum_nights', 'maximum_nights',\n",
    "                   'number_of_reviews', 'reviews_per_month', 'fee_per_person', 'distance',\n",
    "                   'review_scores_rating', 'average_review']\n",
    "    for i in pred_to_log:\n",
    "        data[str('log_')+i] = np.log(data[i])\n",
    " \n",
    "    # Data to drop (leave commented to not drop\n",
    "    #data = data.drop(columns=review_combination)\n",
    "    #data = data.drop(columns=coordinates)\n",
    "    #data = data.drop(columns=pred_to_log)\n",
    "    try:\n",
    "        data = data.drop(columns='property_type_Timeshare') # doesn't exist in test dataset\n",
    "    except:\n",
    "        pass\n",
    "\n",
    "    # Necessary due to new predictors that divided by zero, etc.\n",
    "    data = data.replace([np.inf, -np.inf], 0)\n",
    "    data = data.replace([np.nan], 0)\n",
    "    \n",
    "    return data"
   ]
  },
  {
   "cell_type": "code",
   "execution_count": null,
   "metadata": {},
   "outputs": [],
   "source": [
    "# MORE INTERATIONS?\n",
    "# reviews per month:instant bookable\n",
    "# minimum nights less maximum nights?"
   ]
  },
  {
   "cell_type": "code",
   "execution_count": 346,
   "metadata": {},
   "outputs": [],
   "source": [
    "def process(data):\n",
    "    data = impute(data)\n",
    "    data = engineer(data)\n",
    "    \n",
    "    return data"
   ]
  },
  {
   "cell_type": "code",
   "execution_count": 361,
   "metadata": {},
   "outputs": [],
   "source": [
    "# 1. Run processing\n",
    "train_processed = process(train)\n",
    "test_processed = process(test)\n",
    "\n",
    "response = 'price'\n",
    "predictors = [x for x in list(train_processed.columns) if x not in response]\n",
    "\n",
    "# 2. Get the scaler for scaling train / test\n",
    "scaler = StandardScaler().fit(train_processed[predictors])\n",
    "\n",
    "# 3. Scaler for train / test\n",
    "from sklearn.preprocessing import StandardScaler\n",
    "\n",
    "def scale(data):\n",
    "    data_scaled = scaler.transform(data[predictors])\n",
    "    data = pd.DataFrame(data_scaled, columns=predictors)\n",
    "    \n",
    "    return data\n",
    "\n",
    "# 4. Scale and split\n",
    "X_train = scale(train_processed) # removes response\n",
    "y_train = np.log(train_processed['price']) # logged\n",
    "\n",
    "X_test = scale(test_processed)"
   ]
  },
  {
   "cell_type": "code",
   "execution_count": 348,
   "metadata": {},
   "outputs": [
    {
     "data": {
      "text/html": [
       "<div>\n",
       "<style scoped>\n",
       "    .dataframe tbody tr th:only-of-type {\n",
       "        vertical-align: middle;\n",
       "    }\n",
       "\n",
       "    .dataframe tbody tr th {\n",
       "        vertical-align: top;\n",
       "    }\n",
       "\n",
       "    .dataframe thead th {\n",
       "        text-align: right;\n",
       "    }\n",
       "</style>\n",
       "<table border=\"1\" class=\"dataframe\">\n",
       "  <thead>\n",
       "    <tr style=\"text-align: right;\">\n",
       "      <th></th>\n",
       "      <th>SQRT(VIF)</th>\n",
       "    </tr>\n",
       "  </thead>\n",
       "  <tbody>\n",
       "    <tr>\n",
       "      <th>average_review:instant_bookable</th>\n",
       "      <td>inf</td>\n",
       "    </tr>\n",
       "    <tr>\n",
       "      <th>review_scores_accuracy</th>\n",
       "      <td>inf</td>\n",
       "    </tr>\n",
       "    <tr>\n",
       "      <th>review_scores_rating:instant_bookable</th>\n",
       "      <td>inf</td>\n",
       "    </tr>\n",
       "    <tr>\n",
       "      <th>average_review</th>\n",
       "      <td>inf</td>\n",
       "    </tr>\n",
       "    <tr>\n",
       "      <th>review_scores_value</th>\n",
       "      <td>inf</td>\n",
       "    </tr>\n",
       "    <tr>\n",
       "      <th>review_scores_location</th>\n",
       "      <td>inf</td>\n",
       "    </tr>\n",
       "    <tr>\n",
       "      <th>review_scores_communication</th>\n",
       "      <td>inf</td>\n",
       "    </tr>\n",
       "    <tr>\n",
       "      <th>review_scores_checkin</th>\n",
       "      <td>inf</td>\n",
       "    </tr>\n",
       "    <tr>\n",
       "      <th>review_scores_cleanliness</th>\n",
       "      <td>inf</td>\n",
       "    </tr>\n",
       "    <tr>\n",
       "      <th>longitude</th>\n",
       "      <td>523.680105</td>\n",
       "    </tr>\n",
       "    <tr>\n",
       "      <th>latitude</th>\n",
       "      <td>523.192087</td>\n",
       "    </tr>\n",
       "    <tr>\n",
       "      <th>log_average_review</th>\n",
       "      <td>388.837833</td>\n",
       "    </tr>\n",
       "    <tr>\n",
       "      <th>log_review_scores_rating</th>\n",
       "      <td>177.372943</td>\n",
       "    </tr>\n",
       "    <tr>\n",
       "      <th>has_review</th>\n",
       "      <td>137.016917</td>\n",
       "    </tr>\n",
       "    <tr>\n",
       "      <th>review_scores_rating</th>\n",
       "      <td>52.386129</td>\n",
       "    </tr>\n",
       "    <tr>\n",
       "      <th>log_maximum_nights</th>\n",
       "      <td>10.716268</td>\n",
       "    </tr>\n",
       "    <tr>\n",
       "      <th>accommodates</th>\n",
       "      <td>7.502235</td>\n",
       "    </tr>\n",
       "    <tr>\n",
       "      <th>beds</th>\n",
       "      <td>7.396171</td>\n",
       "    </tr>\n",
       "    <tr>\n",
       "      <th>beds_per_person</th>\n",
       "      <td>7.033069</td>\n",
       "    </tr>\n",
       "    <tr>\n",
       "      <th>bathrooms</th>\n",
       "      <td>6.940318</td>\n",
       "    </tr>\n",
       "  </tbody>\n",
       "</table>\n",
       "</div>"
      ],
      "text/plain": [
       "                                        SQRT(VIF)\n",
       "average_review:instant_bookable               inf\n",
       "review_scores_accuracy                        inf\n",
       "review_scores_rating:instant_bookable         inf\n",
       "average_review                                inf\n",
       "review_scores_value                           inf\n",
       "review_scores_location                        inf\n",
       "review_scores_communication                   inf\n",
       "review_scores_checkin                         inf\n",
       "review_scores_cleanliness                     inf\n",
       "longitude                              523.680105\n",
       "latitude                               523.192087\n",
       "log_average_review                     388.837833\n",
       "log_review_scores_rating               177.372943\n",
       "has_review                             137.016917\n",
       "review_scores_rating                    52.386129\n",
       "log_maximum_nights                      10.716268\n",
       "accommodates                             7.502235\n",
       "beds                                     7.396171\n",
       "beds_per_person                          7.033069\n",
       "bathrooms                                6.940318"
      ]
     },
     "execution_count": 348,
     "metadata": {},
     "output_type": "execute_result"
    }
   ],
   "source": [
    "# Calculating VIF for multicollinearity check\n",
    "from statsmodels.stats.outliers_influence import variance_inflation_factor\n",
    "\n",
    "X = train_processed[predictors].as_matrix()\n",
    "VIF = pd.DataFrame([np.sqrt(variance_inflation_factor(X,j)) for j in range(len(predictors))], index=predictors, columns=['SQRT(VIF)'])\n",
    "\n",
    "VIF.sort_values(by='SQRT(VIF)', ascending=False).head(20)"
   ]
  },
  {
   "cell_type": "markdown",
   "metadata": {},
   "source": [
    "# Models"
   ]
  },
  {
   "cell_type": "code",
   "execution_count": 349,
   "metadata": {},
   "outputs": [],
   "source": [
    "from sklearn.pipeline import Pipeline\n",
    "from sklearn.model_selection import GridSearchCV, RandomizedSearchCV\n",
    "from sklearn.metrics import mean_squared_error, r2_score,  mean_absolute_error\n",
    "\n",
    "from sklearn.linear_model import LinearRegression, LassoCV, RidgeCV, ElasticNetCV\n",
    "from sklearn.neighbors import KNeighborsRegressor\n",
    "from sklearn.tree import DecisionTreeRegressor\n",
    "from sklearn.ensemble import RandomForestRegressor, BaggingRegressor, GradientBoostingRegressor\n",
    "import xgboost as xgb\n",
    "import lightgbm as lgb\n",
    "from mlxtend.regressor import StackingCVRegressor"
   ]
  },
  {
   "cell_type": "code",
   "execution_count": 317,
   "metadata": {},
   "outputs": [
    {
     "data": {
      "text/plain": [
       "LinearRegression(copy_X=True, fit_intercept=True, n_jobs=1, normalize=False)"
      ]
     },
     "execution_count": 317,
     "metadata": {},
     "output_type": "execute_result"
    }
   ],
   "source": [
    "# Linear Regression\n",
    "\n",
    "ols = LinearRegression()\n",
    "ols.fit(X_train, y_train)"
   ]
  },
  {
   "cell_type": "code",
   "execution_count": 318,
   "metadata": {},
   "outputs": [
    {
     "name": "stdout",
     "output_type": "stream",
     "text": [
      "Best parameters: {'n_neighbors': 15}\n",
      "Wall time: 4.67 s\n"
     ]
    }
   ],
   "source": [
    "%%time\n",
    "# KNN\n",
    "\n",
    "model = KNeighborsRegressor() \n",
    "    \n",
    "tuning_parameters = {\n",
    "    'n_neighbors': np.arange(1, 51),\n",
    "}\n",
    "\n",
    "knn_search = GridSearchCV(model, tuning_parameters, cv=5, return_train_score=False, n_jobs=1)\n",
    "knn_search.fit(X_train, y_train)\n",
    "knn = knn_search.best_estimator_\n",
    "\n",
    "print('Best parameters: {}'.format(knn_search.best_params_))"
   ]
  },
  {
   "cell_type": "code",
   "execution_count": 319,
   "metadata": {},
   "outputs": [
    {
     "data": {
      "text/plain": [
       "Pipeline(memory=None,\n",
       "     steps=[('scaler', StandardScaler(copy=True, with_mean=True, with_std=True)), ('estimator', LassoCV(alphas=None, copy_X=True, cv=5, eps=0.001, fit_intercept=True,\n",
       "    max_iter=1000, n_alphas=100, n_jobs=1, normalize=False, positive=False,\n",
       "    precompute='auto', random_state=None, selection='cyclic', tol=0.0001,\n",
       "    verbose=False))])"
      ]
     },
     "execution_count": 319,
     "metadata": {},
     "output_type": "execute_result"
    }
   ],
   "source": [
    "# Lasso\n",
    "\n",
    "lasso = Pipeline((\n",
    "    ('scaler', StandardScaler()),\n",
    "    ('estimator', LassoCV(cv=5)),\n",
    "))\n",
    "\n",
    "lasso.fit(X_train, y_train)"
   ]
  },
  {
   "cell_type": "code",
   "execution_count": 320,
   "metadata": {},
   "outputs": [
    {
     "data": {
      "text/plain": [
       "Pipeline(memory=None,\n",
       "     steps=[('scaler', StandardScaler(copy=True, with_mean=True, with_std=True)), ('estimator', RidgeCV(alphas=[3.0517578125e-05, 3.505549179068098e-05, 4.026818575356734e-05, 4.625599873383782e-05, 5.313418965430448e-05, 6.103515625e-05, 7.011098358136196e-05, 8.053637150713468e-05, 9.251199746767564e-0...cv=5, fit_intercept=True, gcv_mode=None, normalize=False, scoring=None,\n",
       "    store_cv_values=False))])"
      ]
     },
     "execution_count": 320,
     "metadata": {},
     "output_type": "execute_result"
    }
   ],
   "source": [
    "# Ridge\n",
    "\n",
    "alphas = list(np.logspace(-15, 15, 151, base=2))\n",
    "\n",
    "ridge = Pipeline((\n",
    "    ('scaler', StandardScaler()),\n",
    "    ('estimator', RidgeCV(alphas=alphas, cv=5)),\n",
    "))\n",
    "\n",
    "ridge.fit(X_train, y_train)"
   ]
  },
  {
   "cell_type": "code",
   "execution_count": 321,
   "metadata": {},
   "outputs": [
    {
     "data": {
      "text/plain": [
       "Pipeline(memory=None,\n",
       "     steps=[('scaler', StandardScaler(copy=True, with_mean=True, with_std=True)), ('estimator', ElasticNetCV(alphas=None, copy_X=True, cv=5, eps=0.001, fit_intercept=True,\n",
       "       l1_ratio=[0.01, 0.1, 0.2, 0.3, 0.4, 0.5, 0.6, 0.7, 0.8, 0.9, 0.99],\n",
       "       max_iter=1000, n_alphas=100, n_jobs=1, normalize=False,\n",
       "       positive=False, precompute='auto', random_state=None,\n",
       "       selection='cyclic', tol=0.0001, verbose=0))])"
      ]
     },
     "execution_count": 321,
     "metadata": {},
     "output_type": "execute_result"
    }
   ],
   "source": [
    "# Elastic Net\n",
    "\n",
    "enet = Pipeline((\n",
    "    ('scaler', StandardScaler()),\n",
    "    ('estimator', ElasticNetCV(l1_ratio=[0.01,0.1,0.2,0.3,0.4,0.5,0.6,0.7,0.8,0.9, 0.99], cv=5)),\n",
    "))\n",
    "\n",
    "enet.fit(X_train, y_train)"
   ]
  },
  {
   "cell_type": "code",
   "execution_count": 322,
   "metadata": {},
   "outputs": [
    {
     "name": "stdout",
     "output_type": "stream",
     "text": [
      "Best parameters: {'max_depth': 5, 'min_samples_leaf': 10}\n",
      "Wall time: 4.02 s\n"
     ]
    }
   ],
   "source": [
    "%%time\n",
    "# Regression Tree\n",
    "\n",
    "model = DecisionTreeRegressor(min_samples_leaf=5)\n",
    "\n",
    "tuning_parameters = {\n",
    "    'min_samples_leaf': [1, 5, 10, 20],\n",
    "    'max_depth': np.arange(1, 30),\n",
    "}\n",
    "\n",
    "tree_search = GridSearchCV(model, tuning_parameters, cv=5, return_train_score=False, n_jobs=1)\n",
    "tree_search.fit(X_train, y_train)\n",
    "tree = tree_search.best_estimator_\n",
    "\n",
    "print('Best parameters:', tree_search.best_params_)"
   ]
  },
  {
   "cell_type": "code",
   "execution_count": 323,
   "metadata": {},
   "outputs": [
    {
     "name": "stdout",
     "output_type": "stream",
     "text": [
      "Wall time: 4.58 s\n"
     ]
    }
   ],
   "source": [
    "%%time\n",
    "# Bagging\n",
    "\n",
    "bag = BaggingRegressor(n_estimators=500, random_state=1)\n",
    "bag.fit(X_train, y_train)"
   ]
  },
  {
   "cell_type": "code",
   "execution_count": 324,
   "metadata": {},
   "outputs": [
    {
     "name": "stdout",
     "output_type": "stream",
     "text": [
      "Best parameters: {'max_features': 56, 'min_samples_leaf': 10}\n",
      "Wall time: 1min 9s\n"
     ]
    }
   ],
   "source": [
    "%%time\n",
    "# Random Forest\n",
    "\n",
    "model = RandomForestRegressor(n_estimators=100)\n",
    "\n",
    "tuning_parameters = {\n",
    "    'min_samples_leaf': [1, 5, 10, 20, 50],\n",
    "    'max_features': np.arange(1, X_train.shape[1], 5),\n",
    "}\n",
    "\n",
    "rf_search = GridSearchCV(model, tuning_parameters, cv=5, return_train_score=False, n_jobs=1)\n",
    "rf_search.fit(X_train, y_train)\n",
    "rf = rf_search.best_estimator_\n",
    "\n",
    "print('Best parameters:', rf_search.best_params_)"
   ]
  },
  {
   "cell_type": "code",
   "execution_count": 325,
   "metadata": {},
   "outputs": [
    {
     "data": {
      "text/plain": [
       "RandomForestRegressor(bootstrap=True, criterion='mse', max_depth=None,\n",
       "           max_features=56, max_leaf_nodes=None, min_impurity_decrease=0.0,\n",
       "           min_impurity_split=None, min_samples_leaf=10,\n",
       "           min_samples_split=2, min_weight_fraction_leaf=0.0,\n",
       "           n_estimators=500, n_jobs=1, oob_score=False, random_state=None,\n",
       "           verbose=0, warm_start=False)"
      ]
     },
     "execution_count": 325,
     "metadata": {},
     "output_type": "execute_result"
    }
   ],
   "source": [
    "rf.n_estimators = 500\n",
    "rf.fit(X_train, y_train)"
   ]
  },
  {
   "cell_type": "code",
   "execution_count": 326,
   "metadata": {},
   "outputs": [
    {
     "name": "stdout",
     "output_type": "stream",
     "text": [
      "Best parameters found by randomised search: {'subsample': 0.6, 'n_estimators': 500, 'max_depth': 4, 'learning_rate': 0.01}\n",
      "Wall time: 2min 8s\n"
     ]
    }
   ],
   "source": [
    "%%time\n",
    "# SKLearn Boosting\n",
    "\n",
    "model = GradientBoostingRegressor()\n",
    "\n",
    "tuning_parameters = {\n",
    "    'learning_rate': [0.01, 0.05, 0.1],\n",
    "    'n_estimators' : [250, 500, 750, 1000, 1500],\n",
    "    'max_depth' : [2 ,3, 4],\n",
    "    'subsample' : [0.6, 0.8, 1.0]\n",
    "}\n",
    "\n",
    "# NB: too computationally expensive to Grid Search from boosting onwards\n",
    "gb_search = RandomizedSearchCV(model, tuning_parameters, n_iter=20, cv=5, return_train_score=False, n_jobs=1, random_state=1)\n",
    "gb_search.fit(X_train, y_train)\n",
    "gb = gb_search.best_estimator_\n",
    "\n",
    "print('Best parameters found by randomised search:', gb_search.best_params_)"
   ]
  },
  {
   "cell_type": "code",
   "execution_count": 327,
   "metadata": {},
   "outputs": [
    {
     "data": {
      "image/png": "[encoded data removed]",
      "text/plain": [
       "<matplotlib.figure.Figure at 0x1fbb458a550>"
      ]
     },
     "metadata": {},
     "output_type": "display_data"
    }
   ],
   "source": [
    "plot_feature_importance(gb, predictors)\n",
    "plt.show()"
   ]
  },
  {
   "cell_type": "code",
   "execution_count": 328,
   "metadata": {},
   "outputs": [
    {
     "name": "stdout",
     "output_type": "stream",
     "text": [
      "Best parameters found by randomised search: {'subsample': 0.6, 'n_estimators': 750, 'max_depth': 4, 'learning_rate': 0.01}\n",
      "Wall time: 1min 54s\n"
     ]
    }
   ],
   "source": [
    "%%time\n",
    "# XGBoost\n",
    "\n",
    "model = xgb.XGBRegressor()\n",
    "\n",
    "tuning_parameters = {\n",
    "    'learning_rate': [0.01, 0.05, 0.1],\n",
    "    'n_estimators' : [250, 500, 750, 1000, 1500],\n",
    "    'max_depth' : [2, 3, 4],\n",
    "    'subsample' : [0.6, 0.8, 1.0],\n",
    "}\n",
    "\n",
    "gb_search = RandomizedSearchCV(model, tuning_parameters, n_iter=20, cv=5, return_train_score=False, n_jobs=1, random_state=1)\n",
    "gb_search.fit(X_train, y_train)\n",
    "xbst = gb_search.best_estimator_\n",
    "\n",
    "print('Best parameters found by randomised search:', gb_search.best_params_)"
   ]
  },
  {
   "cell_type": "code",
   "execution_count": 329,
   "metadata": {},
   "outputs": [
    {
     "data": {
      "image/png": "[encoded data removed]",
      "text/plain": [
       "<matplotlib.figure.Figure at 0x1fbbbce0ba8>"
      ]
     },
     "metadata": {},
     "output_type": "display_data"
    }
   ],
   "source": [
    "from statlearning import plot_feature_importance\n",
    "\n",
    "plot_feature_importance(xbst, labels=predictors)\n",
    "plt.show()"
   ]
  },
  {
   "cell_type": "code",
   "execution_count": 330,
   "metadata": {},
   "outputs": [
    {
     "name": "stdout",
     "output_type": "stream",
     "text": [
      "Selected number of boosting iterations: 594\n",
      "RMSE (CV): 0.3790\n",
      "Wall time: 26 s\n"
     ]
    }
   ],
   "source": [
    "%%time\n",
    "dtrain = xgb.DMatrix(X_train, y_train) # we need to convert the data to the format required by xgboost\n",
    "dtest  = xgb.DMatrix(X_test)\n",
    "\n",
    "param = {\n",
    "    'max_depth': 4, \n",
    "    'learning_rate': 0.01, \n",
    "    'subsample': 0.6,\n",
    "    'silent' : 0, \n",
    "    'objective':'reg:linear',  \n",
    "     }\n",
    "\n",
    "cv = xgb.cv(param, dtrain, num_boost_round=1500, nfold=10, early_stopping_rounds=50)\n",
    "\n",
    "print(f'Selected number of boosting iterations: {cv.shape[0]}')\n",
    "print(f'RMSE (CV): {cv.iloc[-1,0]:.4f}')"
   ]
  },
  {
   "cell_type": "code",
   "execution_count": 331,
   "metadata": {},
   "outputs": [
    {
     "data": {
      "image/png": "[encoded data removed]",
      "text/plain": [
       "<matplotlib.figure.Figure at 0x1fbbc2c15c0>"
      ]
     },
     "metadata": {},
     "output_type": "display_data"
    }
   ],
   "source": [
    "fig, ax = plt.subplots(figsize=(8,5))\n",
    "plt.plot(cv.iloc[:,0])\n",
    "ax.set_ylabel('Cross-validation RMSE')\n",
    "ax.set_xlabel('Boosting iterations')\n",
    "plt.show()"
   ]
  },
  {
   "cell_type": "code",
   "execution_count": 332,
   "metadata": {},
   "outputs": [
    {
     "name": "stdout",
     "output_type": "stream",
     "text": [
      "Best parameters found by randomised search: {'subsample': 1.0, 'n_estimators': 500, 'max_depth': 4, 'learning_rate': 0.01}\n",
      "Wall time: 2min 49s\n"
     ]
    }
   ],
   "source": [
    "%%time\n",
    "# LightGBM\n",
    "\n",
    "model = lgb.LGBMRegressor(objective='regression')\n",
    "\n",
    "tuning_parameters = {\n",
    "    'learning_rate': [0.01, 0.05, 0.1],\n",
    "    'n_estimators' : [250, 500, 750, 1000, 1500],\n",
    "    'max_depth' : [2, 3, 4],\n",
    "    'subsample' : [0.6, 0.8, 1.0],\n",
    "}\n",
    "\n",
    "gb_search = RandomizedSearchCV(model, tuning_parameters, n_iter=50, cv=10, return_train_score=False, n_jobs=1, random_state=1)\n",
    "gb_search.fit(X_train, y_train)\n",
    "lbst = gb_search.best_estimator_\n",
    "\n",
    "print('Best parameters found by randomised search:', gb_search.best_params_)"
   ]
  },
  {
   "cell_type": "code",
   "execution_count": 333,
   "metadata": {},
   "outputs": [
    {
     "name": "stdout",
     "output_type": "stream",
     "text": [
      "Best parameters found by randomised search: {'subsample': 0.8, 'n_estimators': 250, 'max_depth': 3, 'learning_rate': 0.01}\n",
      "Wall time: 31.8 s\n"
     ]
    }
   ],
   "source": [
    "%%time\n",
    "# Adaptive Boosting\n",
    "\n",
    "y_fit = lasso.predict(X_train)\n",
    "resid = y_train - y_fit\n",
    "\n",
    "model = lgb.LGBMRegressor(objective='regression')\n",
    "\n",
    "\n",
    "tuning_parameters = {\n",
    "    'learning_rate': [0.01, 0.05, 0.1],\n",
    "    'n_estimators' : [250, 500, 750, 1000, 1500],\n",
    "    'max_depth' : [2, 3, 4],\n",
    "    'subsample' : [0.6, 0.8, 1.0],\n",
    "}\n",
    "\n",
    "gb_search = RandomizedSearchCV(model, tuning_parameters, n_iter=20, cv=5, return_train_score=False, n_jobs=1, random_state=1)\n",
    "gb_search.fit(X_train, resid)\n",
    "abst = gb_search.best_estimator_\n",
    "\n",
    "print('Best parameters found by randomised search:', gb_search.best_params_)"
   ]
  },
  {
   "cell_type": "markdown",
   "metadata": {},
   "source": [
    "# Cross-validation, model stacking, and predicting"
   ]
  },
  {
   "cell_type": "code",
   "execution_count": 334,
   "metadata": {},
   "outputs": [
    {
     "name": "stdout",
     "output_type": "stream",
     "text": [
      "Wall time: 55.1 s\n"
     ]
    }
   ],
   "source": [
    "%%time\n",
    "from sklearn.model_selection import cross_val_score\n",
    "\n",
    "def score(method):\n",
    "    '''\n",
    "    Function to return RMSE for model\n",
    "    '''\n",
    "    score = np.mean(np.sqrt(-cross_val_score(method, X_train, y_train, scoring='neg_mean_squared_error', cv=5)))\n",
    "    return score\n",
    "\n",
    "columns = ['CV RMSE']\n",
    "rows = ['OLS', 'KNN', 'Lasso', 'Ridge', 'Elastic Net', 'Decision Tree', 'Bagging', 'Random Forest',\n",
    "        'SKLearn Boost', 'XGBoost', 'LightGBM', 'Additive Boost']\n",
    "\n",
    "results = pd.DataFrame(0.0, columns=columns, index=rows) \n",
    "\n",
    "methods = [ols, knn, lasso, ridge, enet, tree, bag, rf, gb, xbst, lbst, abst]\n",
    "n = 0\n",
    "for i in methods:\n",
    "    results.iloc[n,0] = score(i)    \n",
    "    n += 1"
   ]
  },
  {
   "cell_type": "code",
   "execution_count": 301,
   "metadata": {},
   "outputs": [
    {
     "data": {
      "text/html": [
       "<div>\n",
       "<style scoped>\n",
       "    .dataframe tbody tr th:only-of-type {\n",
       "        vertical-align: middle;\n",
       "    }\n",
       "\n",
       "    .dataframe tbody tr th {\n",
       "        vertical-align: top;\n",
       "    }\n",
       "\n",
       "    .dataframe thead th {\n",
       "        text-align: right;\n",
       "    }\n",
       "</style>\n",
       "<table border=\"1\" class=\"dataframe\">\n",
       "  <thead>\n",
       "    <tr style=\"text-align: right;\">\n",
       "      <th></th>\n",
       "      <th>CV RMSE</th>\n",
       "    </tr>\n",
       "  </thead>\n",
       "  <tbody>\n",
       "    <tr>\n",
       "      <th>XGBoost</th>\n",
       "      <td>0.3623</td>\n",
       "    </tr>\n",
       "    <tr>\n",
       "      <th>SKLearn Boost</th>\n",
       "      <td>0.3667</td>\n",
       "    </tr>\n",
       "    <tr>\n",
       "      <th>Elastic Net</th>\n",
       "      <td>0.3747</td>\n",
       "    </tr>\n",
       "    <tr>\n",
       "      <th>Lasso</th>\n",
       "      <td>0.3747</td>\n",
       "    </tr>\n",
       "    <tr>\n",
       "      <th>Random Forest</th>\n",
       "      <td>0.3754</td>\n",
       "    </tr>\n",
       "    <tr>\n",
       "      <th>Bagging</th>\n",
       "      <td>0.3764</td>\n",
       "    </tr>\n",
       "    <tr>\n",
       "      <th>Ridge</th>\n",
       "      <td>0.3773</td>\n",
       "    </tr>\n",
       "    <tr>\n",
       "      <th>LightGBM</th>\n",
       "      <td>0.3851</td>\n",
       "    </tr>\n",
       "    <tr>\n",
       "      <th>Additive Boost</th>\n",
       "      <td>0.3955</td>\n",
       "    </tr>\n",
       "    <tr>\n",
       "      <th>Decision Tree</th>\n",
       "      <td>0.4040</td>\n",
       "    </tr>\n",
       "    <tr>\n",
       "      <th>KNN</th>\n",
       "      <td>0.4401</td>\n",
       "    </tr>\n",
       "  </tbody>\n",
       "</table>\n",
       "</div>"
      ],
      "text/plain": [
       "                CV RMSE\n",
       "XGBoost          0.3623\n",
       "SKLearn Boost    0.3667\n",
       "Elastic Net      0.3747\n",
       "Lasso            0.3747\n",
       "Random Forest    0.3754\n",
       "Bagging          0.3764\n",
       "Ridge            0.3773\n",
       "LightGBM         0.3851\n",
       "Additive Boost   0.3955\n",
       "Decision Tree    0.4040\n",
       "KNN              0.4401"
      ]
     },
     "execution_count": 301,
     "metadata": {},
     "output_type": "execute_result"
    }
   ],
   "source": [
    "results.iloc[1:len(results.index)].sort_values(by='CV RMSE', ascending=True).round(4)"
   ]
  },
  {
   "cell_type": "code",
   "execution_count": 336,
   "metadata": {},
   "outputs": [
    {
     "name": "stdout",
     "output_type": "stream",
     "text": [
      "Wall time: 1min 5s\n"
     ]
    }
   ],
   "source": [
    "%%time\n",
    "# Creating model stack with best models\n",
    "models = [xbst, gb, enet, rf]\n",
    "stack = StackingCVRegressor(models, meta_regressor=LinearRegression(), cv=10)\n",
    "stack.fit(X_train.values, y_train.ravel())"
   ]
  },
  {
   "cell_type": "code",
   "execution_count": 337,
   "metadata": {},
   "outputs": [],
   "source": [
    "# Creating predictions\n",
    "y_pred = np.exp(stack.predict(X_test.values))\n",
    "submission = pd.DataFrame(np.c_[X_test.index, y_pred], columns=['Id', 'price'])\n",
    "submission.Id = submission.Id.astype(int)\n",
    "submission.to_csv('kaggle_submission.csv', index=False)"
   ]
  },
  {
   "cell_type": "markdown",
   "metadata": {},
   "source": [
    "# Keras MLP"
   ]
  },
  {
   "cell_type": "code",
   "execution_count": 362,
   "metadata": {},
   "outputs": [],
   "source": [
    "train_processed = process(train)\n",
    "test_processed = process(test)\n",
    "\n",
    "X_train = scale(train_processed)\n",
    "y_train = train_processed['price'] # can't log for keras\n",
    "X_test = scale(test_processed)"
   ]
  },
  {
   "cell_type": "code",
   "execution_count": 378,
   "metadata": {},
   "outputs": [],
   "source": [
    "from keras.models import Sequential\n",
    "from keras.layers import Dense\n",
    "from keras.callbacks import ReduceLROnPlateau, EarlyStopping\n",
    "from keras import backend as K"
   ]
  },
  {
   "cell_type": "code",
   "execution_count": 379,
   "metadata": {},
   "outputs": [],
   "source": [
    "model = Sequential()"
   ]
  },
  {
   "cell_type": "code",
   "execution_count": null,
   "metadata": {},
   "outputs": [],
   "source": [
    "model.add(Dense(len(X_train.columns), input_dim=len(X_train.columns),\n",
    "                kernel_initializer='normal', activation='relu'))\n",
    "\n",
    "model.add(Dense(8, kernel_initializer='normal', activation='relu'))\n",
    "\n",
    "model.add(Dense(1, kernel_initializer='normal'))"
   ]
  },
  {
   "cell_type": "code",
   "execution_count": null,
   "metadata": {},
   "outputs": [],
   "source": [
    "def rmse(y_true, y_pred):\n",
    "    return K.sqrt(K.mean(K.square(y_pred - y_true), axis=-1)) \n",
    "\n",
    "model.compile(loss=rmse, optimizer='adam')"
   ]
  },
  {
   "cell_type": "code",
   "execution_count": 380,
   "metadata": {},
   "outputs": [
    {
     "name": "stdout",
     "output_type": "stream",
     "text": [
      "Train on 700 samples, validate on 300 samples\n",
      "Epoch 1/100\n",
      "700/700 [==============================] - 25s 36ms/step - loss: 147.8508 - val_loss: 137.7861\n",
      "Epoch 2/100\n",
      "700/700 [==============================] - 25s 36ms/step - loss: 141.0591 - val_loss: 121.9130\n",
      "Epoch 3/100\n",
      "700/700 [==============================] - 26s 37ms/step - loss: 109.6670 - val_loss: 79.0910\n",
      "Epoch 4/100\n",
      "700/700 [==============================] - 25s 36ms/step - loss: 69.3754 - val_loss: 53.3416\n",
      "Epoch 5/100\n",
      "700/700 [==============================] - 25s 36ms/step - loss: 54.2569 - val_loss: 49.4311\n",
      "Epoch 6/100\n",
      "700/700 [==============================] - 26s 37ms/step - loss: 49.0548 - val_loss: 47.0237\n",
      "Epoch 7/100\n",
      "700/700 [==============================] - 26s 37ms/step - loss: 46.5220 - val_loss: 45.5433\n",
      "Epoch 8/100\n",
      "700/700 [==============================] - 25s 36ms/step - loss: 44.5570 - val_loss: 44.8569\n",
      "Epoch 9/100\n",
      "700/700 [==============================] - 25s 36ms/step - loss: 43.5521 - val_loss: 44.0140\n",
      "Epoch 10/100\n",
      "700/700 [==============================] - 26s 36ms/step - loss: 42.5343 - val_loss: 43.4441\n",
      "Epoch 11/100\n",
      "700/700 [==============================] - 25s 36ms/step - loss: 41.9745 - val_loss: 42.8948\n",
      "Epoch 12/100\n",
      "700/700 [==============================] - 26s 37ms/step - loss: 41.4527 - val_loss: 42.4870\n",
      "Epoch 13/100\n",
      "700/700 [==============================] - 25s 36ms/step - loss: 40.9246 - val_loss: 42.2086\n",
      "Epoch 14/100\n",
      "700/700 [==============================] - 25s 36ms/step - loss: 40.6282 - val_loss: 42.2149\n",
      "Epoch 15/100\n",
      "700/700 [==============================] - 28s 40ms/step - loss: 40.2639 - val_loss: 42.0095\n",
      "Epoch 16/100\n",
      "700/700 [==============================] - 25s 36ms/step - loss: 40.1107 - val_loss: 41.9236\n",
      "Epoch 17/100\n",
      "700/700 [==============================] - 25s 36ms/step - loss: 39.7368 - val_loss: 41.4889\n",
      "Epoch 18/100\n",
      "700/700 [==============================] - 26s 36ms/step - loss: 39.5424 - val_loss: 41.4624\n",
      "Epoch 19/100\n",
      "700/700 [==============================] - 26s 37ms/step - loss: 39.3947 - val_loss: 41.2556\n",
      "Epoch 20/100\n",
      "700/700 [==============================] - 25s 36ms/step - loss: 39.1863 - val_loss: 41.1200\n",
      "Epoch 21/100\n",
      "700/700 [==============================] - 25s 36ms/step - loss: 39.0348 - val_loss: 41.2626\n",
      "Epoch 22/100\n",
      "700/700 [==============================] - 25s 36ms/step - loss: 38.8642 - val_loss: 41.0330\n",
      "Epoch 23/100\n",
      "700/700 [==============================] - 25s 36ms/step - loss: 38.7399 - val_loss: 41.0169\n",
      "Epoch 24/100\n",
      "700/700 [==============================] - 26s 37ms/step - loss: 38.5963 - val_loss: 40.8723\n",
      "Epoch 25/100\n",
      "700/700 [==============================] - 36s 51ms/step - loss: 38.3977 - val_loss: 40.7482\n",
      "Epoch 26/100\n",
      "700/700 [==============================] - 34s 48ms/step - loss: 38.3820 - val_loss: 40.6865\n",
      "Epoch 27/100\n",
      "700/700 [==============================] - 29s 41ms/step - loss: 38.1623 - val_loss: 40.6332\n",
      "Epoch 28/100\n",
      "700/700 [==============================] - 26s 38ms/step - loss: 37.9835 - val_loss: 40.6302\n",
      "Epoch 29/100\n",
      "700/700 [==============================] - 26s 37ms/step - loss: 37.8835 - val_loss: 40.6230\n",
      "Epoch 30/100\n",
      "700/700 [==============================] - 27s 39ms/step - loss: 37.7050 - val_loss: 40.8170\n",
      "Epoch 31/100\n",
      "700/700 [==============================] - 26s 37ms/step - loss: 37.6174 - val_loss: 40.5249\n",
      "Epoch 32/100\n",
      "700/700 [==============================] - 27s 39ms/step - loss: 37.4946 - val_loss: 40.6016\n",
      "Epoch 33/100\n",
      "700/700 [==============================] - 28s 40ms/step - loss: 37.3801 - val_loss: 40.6048\n",
      "Epoch 34/100\n",
      "700/700 [==============================] - 25s 36ms/step - loss: 37.2838 - val_loss: 40.4161\n",
      "Epoch 35/100\n",
      "700/700 [==============================] - 25s 36ms/step - loss: 37.2542 - val_loss: 40.4747\n",
      "Epoch 36/100\n",
      "700/700 [==============================] - 26s 37ms/step - loss: 37.0333 - val_loss: 40.6873\n",
      "Epoch 37/100\n",
      "700/700 [==============================] - 26s 37ms/step - loss: 36.9716 - val_loss: 40.7755\n",
      "Epoch 38/100\n",
      "700/700 [==============================] - 25s 36ms/step - loss: 36.9142 - val_loss: 40.6797\n",
      "Epoch 39/100\n",
      "700/700 [==============================] - 25s 36ms/step - loss: 36.7346 - val_loss: 40.7448\n"
     ]
    },
    {
     "data": {
      "text/plain": [
       "<keras.callbacks.History at 0x1fbc3d76f60>"
      ]
     },
     "execution_count": 380,
     "metadata": {},
     "output_type": "execute_result"
    }
   ],
   "source": [
    "reduce_lr = ReduceLROnPlateau(monitor='val_loss', factor=0.5, min_lr=0.001,\n",
    "                              patience=5, mode='auto')\n",
    "\n",
    "early_stop = EarlyStopping(monitor='val_loss', min_delta=0.01,\n",
    "                           patience=5, mode='auto')\n",
    "\n",
    "model.fit(X_train, y_train,\n",
    "          epochs=100, batch_size=10,\n",
    "          validation_split=0.3, shuffle=True,\n",
    "          callbacks=[reduce_lr, early_stop])"
   ]
  },
  {
   "cell_type": "code",
   "execution_count": 381,
   "metadata": {},
   "outputs": [],
   "source": [
    "y_pred = model.predict(X_test.values)\n",
    "submission = pd.DataFrame(np.c_[X_test.index, y_pred], columns=['Id', 'price'])\n",
    "submission.Id = submission.Id.astype(int)\n",
    "submission.to_csv('kaggle_submission_keras.csv', index=False)"
   ]
  }
 ],
 "metadata": {
  "kernelspec": {
   "display_name": "Python 3",
   "language": "python",
   "name": "python3"
  },
  "language_info": {
   "codemirror_mode": {
    "name": "ipython",
    "version": 3
   },
   "file_extension": ".py",
   "mimetype": "text/x-python",
   "name": "python",
   "nbconvert_exporter": "python",
   "pygments_lexer": "ipython3",
   "version": "3.6.4"
  }
 },
 "nbformat": 4,
 "nbformat_minor": 2
}
