{
 "cells": [
  {
   "cell_type": "markdown",
   "metadata": {},
   "source": [
    "# Packages, dataset, and variable names"
   ]
  },
  {
   "cell_type": "code",
   "execution_count": 26,
   "metadata": {},
   "outputs": [],
   "source": [
    "import warnings\n",
    "warnings.filterwarnings('ignore')\n",
    "\n",
    "import pandas as pd\n",
    "import numpy as np\n",
    "\n",
    "import matplotlib.pyplot as plt\n",
    "import seaborn as sns"
   ]
  },
  {
   "cell_type": "code",
   "execution_count": 2,
   "metadata": {},
   "outputs": [],
   "source": [
    "# Datasets\n",
    "train = pd.read_csv('train.csv').drop(columns='Id')\n",
    "test = pd.read_csv('test.csv').drop(columns='Id')\n",
    "\n",
    "# Variables\n",
    "response = ['price']\n",
    "\n",
    "categorical = ['host_is_superhost', 'host_identity_verified', 'property_type', 'room_type',\n",
    "               'instant_bookable', 'is_business_travel_ready', 'cancellation_policy']\n",
    "\n",
    "continuous = ['host_total_listings_count', 'security_deposit', 'cleaning_fee', 'extra_people',\n",
    "              'minimum_nights','maximum_nights']\n",
    "\n",
    "discrete = ['accommodates', 'bathrooms', 'bedrooms', 'beds']\n",
    "\n",
    "reviews = ['number_of_reviews', 'review_scores_rating', 'review_scores_accuracy', \n",
    "           'review_scores_cleanliness', 'review_scores_checkin', 'review_scores_communication', \n",
    "           'review_scores_location', 'review_scores_value', 'reviews_per_month']\n",
    "\n",
    "coordinates = ['latitude', 'longitude']\n",
    "\n",
    "predictors = categorical + continuous + discrete + reviews + coordinates"
   ]
  },
  {
   "cell_type": "markdown",
   "metadata": {},
   "source": [
    "# EDA\n",
    "No EDA in this Notebook - see previous notebooks"
   ]
  },
  {
   "cell_type": "markdown",
   "metadata": {},
   "source": [
    "# Data Processing / Engineering / Scaling"
   ]
  },
  {
   "cell_type": "code",
   "execution_count": 56,
   "metadata": {},
   "outputs": [],
   "source": [
    "def impute(data):\n",
    "    '''\n",
    "    Imputes missing data in test / train sets for Airbnb data\n",
    "    '''\n",
    "    \n",
    "    # Categoricals\n",
    "    data['host_is_superhost'].fillna(value='f', inplace=True)\n",
    "    data['host_identity_verified'].fillna(value='f', inplace=True)\n",
    "\n",
    "    # No costs\n",
    "    data['security_deposit'].fillna(value=0, inplace=True)\n",
    "    data['cleaning_fee'].fillna(value=0, inplace=True)\n",
    "\n",
    "    # Medians\n",
    "    for i in discrete+continuous:\n",
    "        data[i].fillna(value=np.nanmedian(data[i]), inplace=True)\n",
    "\n",
    "    # Reviews\n",
    "    zero_reviews = data[reviews].loc[data['number_of_reviews'] == 0]\n",
    "    zero_reviews.fillna(value=0, inplace=True)\n",
    "\n",
    "    nonzero_reviews = data[reviews].loc[data['number_of_reviews'] > 0]\n",
    "    data_reviews = pd.concat([zero_reviews, nonzero_reviews], axis=0).sort_index()\n",
    "\n",
    "    for i in data_reviews.columns:\n",
    "        data_reviews[i].fillna(value=np.nanmedian(data_reviews[i]), inplace=True)\n",
    "\n",
    "    data = data.drop(columns=data[reviews].columns)\n",
    "    data = pd.concat([data, data_reviews], axis=1)\n",
    "    \n",
    "    return data\n",
    "\n",
    "from math import radians, cos, sin, asin, sqrt\n",
    "\n",
    "def great_circle_dist(lat1, lon1, lat2, lon2):\n",
    "    '''\n",
    "    Function to calculate distance between two points, using Haversine formula (used in engineering)\n",
    "    '''\n",
    "    lat1, lon1, lat2, lon2 = map(radians, [lat1, lon1, lat2, lon2])\n",
    "\n",
    "    dlon = lon2 - lon1 \n",
    "    dlat = lat2 - lat1 \n",
    "    a = sin(dlat/2)**2 + cos(lat1) * cos(lat2) * sin(dlon/2)**2\n",
    "    c = 2 * asin(sqrt(a)) \n",
    "    \n",
    "    km = 6371 * c\n",
    "    return km\n",
    "\n",
    "def engineer(data):\n",
    "    '''\n",
    "    Feature engineering (encoding, transforming, and creating new variables)\n",
    "    '''\n",
    "    \n",
    "    # One-hot encoding\n",
    "    dummies = pd.get_dummies(data[categorical], columns=categorical, drop_first=True)\n",
    "    data = data.drop(columns=data[categorical].columns)\n",
    "    data = pd.concat([data, dummies], axis=1)\n",
    "\n",
    "    # New predictors\n",
    "    data['has_review'] = (data.number_of_reviews > 0).astype(int)\n",
    "    data['fee_per_person'] = (data['security_deposit'] + data['cleaning_fee']) / data['accommodates']\n",
    "    data['beds_per_person'] = data['beds'] / data['accommodates']\n",
    "    data['bathrooms_per_person'] = data['bathrooms'] / data['accommodates']\n",
    "    data['bedrooms_per_person'] = data['bedrooms'] / data['accommodates']\n",
    "    data['beds_per_bedrooms'] = data['beds'] / data['bedrooms']\n",
    "\n",
    "    review_combination = ['review_scores_accuracy', 'review_scores_cleanliness', 'review_scores_checkin',\n",
    "                          'review_scores_communication', 'review_scores_location', 'review_scores_value']\n",
    "    data['average_review'] = data[review_combination].mean(axis=1)\n",
    "    \n",
    "    # Interactions\n",
    "    data['security_deposit:is_business_tavel_ready'] = data['security_deposit'] * data['is_business_travel_ready_t']\n",
    "    data['security_deposit:host_identity_verified'] = data['security_deposit'] * data['host_identity_verified_t']\n",
    "    data['review_scores_rating:instant_bookable'] = data['review_scores_rating'] * data['instant_bookable_t']\n",
    "    \n",
    "    # Distance (using great circle distance)\n",
    "    syd_lat, syd_lon = -33.8587377, 151.210686 # Syd Opera House\n",
    "\n",
    "    distance = []\n",
    "    for i in np.arange(len(data)):\n",
    "        lat = data['latitude'].iloc[i]\n",
    "        lon = data['longitude'].iloc[i]\n",
    "\n",
    "        dist = great_circle_dist(syd_lat, syd_lon, lat, lon)\n",
    "        distance.append(dist)\n",
    "\n",
    "    distance = pd.DataFrame(distance, columns=['distance'])\n",
    "    data = pd.concat([data, distance], axis=1)\n",
    "\n",
    "    # Logs (determined with EDA on distributions)\n",
    "    pred_to_log = ['security_deposit', 'cleaning_fee', 'minimum_nights', 'maximum_nights',\n",
    "                   'number_of_reviews', 'reviews_per_month', 'fee_per_person', 'distance']\n",
    "    for i in pred_to_log:\n",
    "        data[str('log_')+i] = np.log(data[i])\n",
    " \n",
    "    # Data to drop / uncomment if more useful removed\n",
    "    #data = data.drop(columns=review_combination)\n",
    "    #data = data.drop(columns=coordinates)\n",
    "    #data = data.drop(columns=pred_to_log)\n",
    "    try:\n",
    "        data = data.drop(columns='property_type_Timeshare') # doesn't exist in test dataset\n",
    "    except:\n",
    "        pass\n",
    "\n",
    "    # Necessary due to new predictors and logging\n",
    "    data = data.replace([np.inf, -np.inf], 0)\n",
    "    data = data.replace([np.nan], 0)\n",
    "    \n",
    "    return data\n",
    "\n",
    "def process(data):\n",
    "    data = impute(data)\n",
    "    data = engineer(data)\n",
    "    \n",
    "    return data"
   ]
  },
  {
   "cell_type": "code",
   "execution_count": 57,
   "metadata": {},
   "outputs": [],
   "source": [
    "# 1. Run processing\n",
    "train_processed = process(train)\n",
    "test_processed = process(test)\n",
    "\n",
    "response = 'price'\n",
    "predictors = [x for x in list(train_processed.columns) if x not in response]\n",
    "\n",
    "# 2. Get the scaler for scaling train / test\n",
    "from sklearn.preprocessing import StandardScaler\n",
    "scaler = StandardScaler().fit(train_processed[predictors])\n",
    "\n",
    "# 3. Scaler for train / test\n",
    "def scaling(data):\n",
    "    data_scaled = scaler.transform(data[predictors])\n",
    "    data = pd.DataFrame(data_scaled, columns=predictors)\n",
    "    \n",
    "    return data\n",
    "\n",
    "# 4. Scale and split\n",
    "X_train = scaling(train_processed)\n",
    "y_train = np.log(train_processed['price']) # logged\n",
    "\n",
    "X_test = scaling(test_processed)"
   ]
  },
  {
   "cell_type": "markdown",
   "metadata": {},
   "source": [
    "# Models"
   ]
  },
  {
   "cell_type": "code",
   "execution_count": 58,
   "metadata": {},
   "outputs": [],
   "source": [
    "from sklearn.model_selection import train_test_split\n",
    "from sklearn.model_selection import GridSearchCV, RandomizedSearchCV\n",
    "from sklearn.metrics import mean_squared_error, r2_score,  mean_absolute_error\n",
    "\n",
    "from sklearn.pipeline import Pipeline\n",
    "from sklearn.linear_model import LinearRegression, LassoCV, RidgeCV, ElasticNetCV\n",
    "from sklearn.neighbors import KNeighborsRegressor\n",
    "from sklearn.tree import DecisionTreeRegressor\n",
    "from sklearn.ensemble import RandomForestRegressor, BaggingRegressor, GradientBoostingRegressor\n",
    "import xgboost as xgb\n",
    "import lightgbm as lgb\n",
    "from mlxtend.regressor import StackingCVRegressor"
   ]
  },
  {
   "cell_type": "code",
   "execution_count": 59,
   "metadata": {},
   "outputs": [],
   "source": [
    "from sklearn.model_selection import cross_val_score\n",
    "def score(method):\n",
    "    '''\n",
    "    Function to return RMSE for model\n",
    "    '''\n",
    "    score = np.mean(np.sqrt(-cross_val_score(method, X_train, y_train, scoring='neg_mean_squared_error', cv=5)))\n",
    "    print('RMSE: {}'.format(score))"
   ]
  },
  {
   "cell_type": "markdown",
   "metadata": {},
   "source": [
    "### Linear Regression + KNN"
   ]
  },
  {
   "cell_type": "code",
   "execution_count": 60,
   "metadata": {},
   "outputs": [
    {
     "name": "stdout",
     "output_type": "stream",
     "text": [
      "RMSE: 567887932176.9563\n"
     ]
    }
   ],
   "source": [
    "ols = LinearRegression()\n",
    "ols.fit(X_train, y_train)\n",
    "\n",
    "score(ols)"
   ]
  },
  {
   "cell_type": "code",
   "execution_count": 61,
   "metadata": {},
   "outputs": [
    {
     "name": "stdout",
     "output_type": "stream",
     "text": [
      "RMSE: 0.42898635934600626\n",
      "Best parameters: {'n_neighbors': 12}\n",
      "Wall time: 5.14 s\n"
     ]
    }
   ],
   "source": [
    "%%time\n",
    "model = KNeighborsRegressor() \n",
    "    \n",
    "tuning_parameters = {\n",
    "    'n_neighbors': np.arange(1, 51),\n",
    "}\n",
    "\n",
    "knn_search = GridSearchCV(model, tuning_parameters, cv=5, return_train_score=False, n_jobs=1)\n",
    "knn_search.fit(X_train, y_train)\n",
    "knn = knn_search.best_estimator_\n",
    "\n",
    "score(knn)\n",
    "print('Best parameters: {}'.format(knn_search.best_params_))"
   ]
  },
  {
   "cell_type": "markdown",
   "metadata": {},
   "source": [
    "### Lasso"
   ]
  },
  {
   "cell_type": "code",
   "execution_count": 62,
   "metadata": {},
   "outputs": [
    {
     "name": "stdout",
     "output_type": "stream",
     "text": [
      "RMSE: 0.37478601291661995\n"
     ]
    }
   ],
   "source": [
    "lasso = Pipeline((\n",
    "    ('scaler', StandardScaler()),\n",
    "    ('estimator', LassoCV(cv=5)),\n",
    "))\n",
    "\n",
    "lasso.fit(X_train, y_train)\n",
    "\n",
    "score(lasso)"
   ]
  },
  {
   "cell_type": "markdown",
   "metadata": {},
   "source": [
    "### Ridge"
   ]
  },
  {
   "cell_type": "code",
   "execution_count": 63,
   "metadata": {},
   "outputs": [
    {
     "name": "stdout",
     "output_type": "stream",
     "text": [
      "RMSE: 0.3752215750459422\n"
     ]
    }
   ],
   "source": [
    "alphas = list(np.logspace(-15, 15, 151, base=2))\n",
    "\n",
    "ridge = Pipeline((\n",
    "    ('scaler', StandardScaler()),\n",
    "    ('estimator', RidgeCV(alphas=alphas, cv=5)),\n",
    "))\n",
    "\n",
    "ridge.fit(X_train, y_train)\n",
    "\n",
    "score(ridge)"
   ]
  },
  {
   "cell_type": "markdown",
   "metadata": {},
   "source": [
    "### Elastic Net"
   ]
  },
  {
   "cell_type": "code",
   "execution_count": 64,
   "metadata": {},
   "outputs": [
    {
     "name": "stdout",
     "output_type": "stream",
     "text": [
      "RMSE: 0.37498584122671297\n"
     ]
    }
   ],
   "source": [
    "enet = Pipeline((\n",
    "    ('scaler', StandardScaler()),\n",
    "    ('estimator', ElasticNetCV(l1_ratio=[0.01,0.1,0.2,0.3,0.4,0.5,0.6,0.7,0.8,0.9, 0.99], cv=5)),\n",
    "))\n",
    "\n",
    "enet.fit(X_train, y_train)\n",
    "\n",
    "score(enet)"
   ]
  },
  {
   "cell_type": "markdown",
   "metadata": {},
   "source": [
    "### Regression Tree"
   ]
  },
  {
   "cell_type": "code",
   "execution_count": 65,
   "metadata": {},
   "outputs": [
    {
     "name": "stdout",
     "output_type": "stream",
     "text": [
      "RMSE: 0.4039906856992347\n",
      "Best parameters: {'max_depth': 3, 'min_samples_leaf': 5}\n",
      "Wall time: 4.95 s\n"
     ]
    }
   ],
   "source": [
    "%%time\n",
    "\n",
    "model = DecisionTreeRegressor(min_samples_leaf=5)\n",
    "\n",
    "tuning_parameters = {\n",
    "    'min_samples_leaf': [1, 5, 10, 20],\n",
    "    'max_depth': np.arange(1, 30),\n",
    "}\n",
    "\n",
    "#tree_search = RandomizedSearchCV(model, tuning_parameters, n_iter=20, cv=5, return_train_score=False, n_jobs=1, random_state=1)\n",
    "tree_search = GridSearchCV(model, tuning_parameters, cv=5, return_train_score=False, n_jobs=1)\n",
    "tree_search.fit(X_train, y_train)\n",
    "tree = tree_search.best_estimator_\n",
    "\n",
    "score(tree)\n",
    "print('Best parameters:', tree_search.best_params_)"
   ]
  },
  {
   "cell_type": "markdown",
   "metadata": {},
   "source": [
    "### Bagging"
   ]
  },
  {
   "cell_type": "code",
   "execution_count": 66,
   "metadata": {},
   "outputs": [
    {
     "name": "stdout",
     "output_type": "stream",
     "text": [
      "RMSE: 0.37424727348342124\n",
      "Wall time: 26.4 s\n"
     ]
    }
   ],
   "source": [
    "%%time\n",
    "\n",
    "bag = BaggingRegressor(n_estimators=500, random_state=1)\n",
    "bag.fit(X_train, y_train)\n",
    "score(bag)"
   ]
  },
  {
   "cell_type": "markdown",
   "metadata": {},
   "source": [
    "### Random Forest"
   ]
  },
  {
   "cell_type": "code",
   "execution_count": 67,
   "metadata": {},
   "outputs": [
    {
     "name": "stdout",
     "output_type": "stream",
     "text": [
      "Best parameters found by randomised search: {'max_features': 61, 'min_samples_leaf': 5} \n",
      "\n",
      "Wall time: 2min 57s\n"
     ]
    }
   ],
   "source": [
    "%%time\n",
    "\n",
    "model = RandomForestRegressor(n_estimators=100)\n",
    "\n",
    "tuning_parameters = {\n",
    "    'min_samples_leaf': [1, 5, 10, 20, 50],\n",
    "    'max_features': np.arange(1, X_train.shape[1], 5),\n",
    "}\n",
    "\n",
    "#rf_search = RandomizedSearchCV(model, tuning_parameters, cv=5, n_iter=16, return_train_score=False, n_jobs=4, random_state=1)\n",
    "rf_search = GridSearchCV(model, tuning_parameters, cv=5, return_train_score=False, n_jobs=1)\n",
    "rf_search.fit(X_train, y_train)\n",
    "rf = rf_search.best_estimator_\n",
    "\n",
    "print('Best parameters found by randomised search:', rf_search.best_params_, '\\n')"
   ]
  },
  {
   "cell_type": "code",
   "execution_count": 68,
   "metadata": {},
   "outputs": [
    {
     "name": "stdout",
     "output_type": "stream",
     "text": [
      "RMSE: 0.3745677348412326\n"
     ]
    }
   ],
   "source": [
    "rf.n_estimators = 500\n",
    "rf.fit(X_train, y_train)\n",
    "score(rf)"
   ]
  },
  {
   "cell_type": "markdown",
   "metadata": {},
   "source": [
    "### Boosting"
   ]
  },
  {
   "cell_type": "code",
   "execution_count": 69,
   "metadata": {},
   "outputs": [
    {
     "name": "stdout",
     "output_type": "stream",
     "text": [
      "Best parameters found by grid search: {'subsample': 0.6, 'n_estimators': 750, 'max_depth': 4, 'learning_rate': 0.01} \n",
      "\n",
      "Wall time: 2min 19s\n"
     ]
    }
   ],
   "source": [
    "%%time\n",
    "model = GradientBoostingRegressor()\n",
    "\n",
    "tuning_parameters = {\n",
    "    'learning_rate': [0.01, 0.05, 0.1],\n",
    "    'n_estimators' : [250, 500, 750, 1000, 1500],\n",
    "    'max_depth' : [2 ,3, 4],\n",
    "    'subsample' : [0.6, 0.8, 1.0]\n",
    "}\n",
    "\n",
    "gb_search = RandomizedSearchCV(model, tuning_parameters, n_iter=20, cv=5, return_train_score=False, n_jobs=1, random_state=1)\n",
    "#gb = GridSearchCV(model, tuning_parameters, cv=10, return_train_score=False, n_jobs=1)\n",
    "gb_search.fit(X_train, y_train)\n",
    "\n",
    "print('Best parameters found by grid search:', gb_search.best_params_, '\\n')"
   ]
  },
  {
   "cell_type": "code",
   "execution_count": 70,
   "metadata": {},
   "outputs": [
    {
     "name": "stdout",
     "output_type": "stream",
     "text": [
      "RMSE: 0.36384417133820907\n"
     ]
    }
   ],
   "source": [
    "gb = gb_search.best_estimator_\n",
    "score(gb)"
   ]
  },
  {
   "cell_type": "code",
   "execution_count": 71,
   "metadata": {},
   "outputs": [
    {
     "data": {
      "image/png": "[encoded data removed]",
      "text/plain": [
       "<matplotlib.figure.Figure at 0x1fbbbe2fd30>"
      ]
     },
     "metadata": {},
     "output_type": "display_data"
    }
   ],
   "source": [
    "from statlearning import plot_feature_importance\n",
    "\n",
    "plot_feature_importance(gb, predictors)\n",
    "plt.show()"
   ]
  },
  {
   "cell_type": "markdown",
   "metadata": {},
   "source": [
    "### XGBoost"
   ]
  },
  {
   "cell_type": "code",
   "execution_count": 72,
   "metadata": {},
   "outputs": [
    {
     "name": "stdout",
     "output_type": "stream",
     "text": [
      "Best parameters found by randomised search: {'subsample': 0.6, 'n_estimators': 750, 'max_depth': 4, 'learning_rate': 0.01} \n",
      "\n",
      "Wall time: 2min 12s\n"
     ]
    }
   ],
   "source": [
    "%%time\n",
    "\n",
    "model = xgb.XGBRegressor()\n",
    "\n",
    "tuning_parameters = {\n",
    "    'learning_rate': [0.01, 0.05, 0.1],\n",
    "    'n_estimators' : [250, 500, 750, 1000, 1500],\n",
    "    'max_depth' : [2, 3, 4],\n",
    "    'subsample' : [0.6, 0.8, 1.0],\n",
    "}\n",
    "\n",
    "gb_search = RandomizedSearchCV(model, tuning_parameters, n_iter=20, cv=5, return_train_score=False, n_jobs=1, random_state=1)\n",
    "#gb = GridSearchCV(model, tuning_parameters, cv=10, return_train_score=False, n_jobs=1)\n",
    "gb_search.fit(X_train, y_train)\n",
    "\n",
    "print('Best parameters found by randomised search:', gb_search.best_params_, '\\n')"
   ]
  },
  {
   "cell_type": "code",
   "execution_count": 73,
   "metadata": {},
   "outputs": [
    {
     "name": "stdout",
     "output_type": "stream",
     "text": [
      "RMSE: 0.36282142119985555\n"
     ]
    }
   ],
   "source": [
    "xbst = gb_search.best_estimator_\n",
    "score(xbst)"
   ]
  },
  {
   "cell_type": "code",
   "execution_count": 74,
   "metadata": {},
   "outputs": [
    {
     "data": {
      "image/png": "[encoded data removed]",
      "text/plain": [
       "<matplotlib.figure.Figure at 0x1fbba97ffd0>"
      ]
     },
     "metadata": {},
     "output_type": "display_data"
    }
   ],
   "source": [
    "plot_feature_importance(xbst, labels=predictors)\n",
    "plt.show()"
   ]
  },
  {
   "cell_type": "code",
   "execution_count": 75,
   "metadata": {},
   "outputs": [
    {
     "name": "stdout",
     "output_type": "stream",
     "text": [
      "Selected number of boosting iterations: 137\n",
      "RMSE (CV): 0.3617\n",
      "Wall time: 5.58 s\n"
     ]
    }
   ],
   "source": [
    "%%time\n",
    "\n",
    "dtrain = xgb.DMatrix(X_train, y_train) # we need to convert the data to the format required by xgboost\n",
    "dtest  = xgb.DMatrix(X_test)\n",
    "\n",
    "param = {\n",
    "    'max_depth': 2, \n",
    "    'learning_rate': 0.1, \n",
    "    'subsample': 0.8,\n",
    "    'silent' : 0, \n",
    "    'objective':'reg:linear',  \n",
    "     }\n",
    "\n",
    "cv = xgb.cv(param, dtrain, num_boost_round=1500, nfold=10, early_stopping_rounds=50)\n",
    "\n",
    "print(f'Selected number of boosting iterations: {cv.shape[0]}')\n",
    "print(f'RMSE (CV): {cv.iloc[-1,0]:.4f}')"
   ]
  },
  {
   "cell_type": "code",
   "execution_count": 76,
   "metadata": {},
   "outputs": [
    {
     "data": {
      "image/png": "[encoded data removed]",
      "text/plain": [
       "<matplotlib.figure.Figure at 0x1fbbbeca048>"
      ]
     },
     "metadata": {},
     "output_type": "display_data"
    }
   ],
   "source": [
    "fig, ax = plt.subplots(figsize=(8,5))\n",
    "plt.plot(cv.iloc[:,0])\n",
    "ax.set_ylabel('Cross-validation RMSE')\n",
    "ax.set_xlabel('Boosting iterations')\n",
    "sns.despine()\n",
    "plt.show()"
   ]
  },
  {
   "cell_type": "markdown",
   "metadata": {},
   "source": [
    "### LightGBM"
   ]
  },
  {
   "cell_type": "code",
   "execution_count": 77,
   "metadata": {},
   "outputs": [
    {
     "name": "stdout",
     "output_type": "stream",
     "text": [
      "Best parameters found by randomised search: {'subsample': 1.0, 'n_estimators': 500, 'max_depth': 4, 'learning_rate': 0.01} \n",
      "\n",
      "Wall time: 4min 43s\n"
     ]
    }
   ],
   "source": [
    "%%time\n",
    "\n",
    "model = lgb.LGBMRegressor(objective='regression')\n",
    "\n",
    "tuning_parameters = {\n",
    "    'learning_rate': [0.01, 0.05, 0.1],\n",
    "    'n_estimators' : [250, 500, 750, 1000, 1500],\n",
    "    'max_depth' : [2, 3, 4],\n",
    "    'subsample' : [0.6, 0.8, 1.0],\n",
    "}\n",
    "\n",
    "gb_search = RandomizedSearchCV(model, tuning_parameters, n_iter=50, cv=10, return_train_score=False, n_jobs=1, random_state=1)\n",
    "gb_search.fit(X_train, y_train)\n",
    "\n",
    "print('Best parameters found by randomised search:', gb_search.best_params_, '\\n')"
   ]
  },
  {
   "cell_type": "code",
   "execution_count": 78,
   "metadata": {},
   "outputs": [
    {
     "name": "stdout",
     "output_type": "stream",
     "text": [
      "RMSE: 0.3824390774302887\n"
     ]
    }
   ],
   "source": [
    "lbst = gb_search.best_estimator_\n",
    "score(lbst)"
   ]
  },
  {
   "cell_type": "markdown",
   "metadata": {},
   "source": [
    "### Adaptive Boosting"
   ]
  },
  {
   "cell_type": "code",
   "execution_count": 79,
   "metadata": {},
   "outputs": [
    {
     "name": "stdout",
     "output_type": "stream",
     "text": [
      "Best parameters found by randomised search: {'subsample': 0.8, 'n_estimators': 250, 'max_depth': 3, 'learning_rate': 0.01} \n",
      "\n",
      "Wall time: 59.3 s\n"
     ]
    }
   ],
   "source": [
    "%%time\n",
    "\n",
    "y_fit = lasso.predict(X_train)\n",
    "resid = y_train - y_fit\n",
    "\n",
    "model = lgb.LGBMRegressor(objective='regression')\n",
    "\n",
    "\n",
    "tuning_parameters = {\n",
    "    'learning_rate': [0.01, 0.05, 0.1],\n",
    "    'n_estimators' : [250, 500, 750, 1000, 1500],\n",
    "    'max_depth' : [2, 3, 4],\n",
    "    'subsample' : [0.6, 0.8, 1.0],\n",
    "}\n",
    "\n",
    "gb_search = RandomizedSearchCV(model, tuning_parameters, n_iter=20, cv=5, return_train_score=False, n_jobs=1, random_state=1)\n",
    "gb_search.fit(X_train, resid)\n",
    "\n",
    "print('Best parameters found by randomised search:', gb_search.best_params_, '\\n')"
   ]
  },
  {
   "cell_type": "code",
   "execution_count": 80,
   "metadata": {},
   "outputs": [
    {
     "name": "stdout",
     "output_type": "stream",
     "text": [
      "RMSE: 0.3950857263919705\n"
     ]
    }
   ],
   "source": [
    "abst = gb_search.best_estimator_\n",
    "score(abst)"
   ]
  },
  {
   "cell_type": "markdown",
   "metadata": {},
   "source": [
    "### Model Stacking"
   ]
  },
  {
   "cell_type": "code",
   "execution_count": 82,
   "metadata": {},
   "outputs": [
    {
     "name": "stdout",
     "output_type": "stream",
     "text": [
      "Wall time: 3min 58s\n"
     ]
    }
   ],
   "source": [
    "%%time\n",
    "\n",
    "models = [lasso, bag, gb, xbst] # four best\n",
    "#models = [lasso, abst, xbst] # Cindy's\n",
    "stack = StackingCVRegressor(models, meta_regressor=LinearRegression(), cv=10)\n",
    "stack.fit(X_train.values, y_train.ravel())"
   ]
  },
  {
   "cell_type": "markdown",
   "metadata": {},
   "source": [
    "# Prediction"
   ]
  },
  {
   "cell_type": "code",
   "execution_count": 83,
   "metadata": {},
   "outputs": [],
   "source": [
    "y_pred = np.exp(stack.predict(X_test.values))\n",
    "submission = pd.DataFrame(np.c_[X_test.index, y_pred], columns=['Id', 'price'])\n",
    "submission.to_csv('kaggle_submission.csv',  index=False)"
   ]
  },
  {
   "cell_type": "code",
   "execution_count": null,
   "metadata": {},
   "outputs": [],
   "source": []
  },
  {
   "cell_type": "markdown",
   "metadata": {},
   "source": [
    "# Keras MLP (NOT UPDATED)"
   ]
  },
  {
   "cell_type": "code",
   "execution_count": 88,
   "metadata": {},
   "outputs": [],
   "source": [
    "from keras.models import Sequential\n",
    "from keras.layers import Dense\n",
    "from keras.callbacks import ReduceLROnPlateau"
   ]
  },
  {
   "cell_type": "code",
   "execution_count": 84,
   "metadata": {},
   "outputs": [],
   "source": [
    "train_processed = process(train)\n",
    "test_processed = process(test)\n",
    "\n",
    "X_train = scaling(train_processed)\n",
    "y_train = train_processed['price']\n",
    "X_test = scaling(test_processed)"
   ]
  },
  {
   "cell_type": "code",
   "execution_count": 89,
   "metadata": {},
   "outputs": [
    {
     "name": "stdout",
     "output_type": "stream",
     "text": [
      "Epoch 1/100\n",
      "1000/1000 [==============================] - 15s 15ms/step - loss: 29390.1059 - mean_squared_error: 29390.1059 - acc: 0.0000e+00\n",
      "Epoch 2/100\n",
      "1000/1000 [==============================] - 15s 15ms/step - loss: 26581.5765 - mean_squared_error: 26581.5765 - acc: 0.0000e+00\n",
      "Epoch 3/100\n",
      "1000/1000 [==============================] - 15s 15ms/step - loss: 16556.7537 - mean_squared_error: 16556.7537 - acc: 0.0000e+00\n",
      "Epoch 4/100\n",
      "1000/1000 [==============================] - 15s 15ms/step - loss: 8164.8428 - mean_squared_error: 8164.8428 - acc: 0.0070\n",
      "Epoch 5/100\n",
      "1000/1000 [==============================] - 14s 14ms/step - loss: 5846.1857 - mean_squared_error: 5846.1857 - acc: 0.0060\n",
      "Epoch 6/100\n",
      "1000/1000 [==============================] - 13s 13ms/step - loss: 4806.8824 - mean_squared_error: 4806.8824 - acc: 0.0060\n",
      "Epoch 7/100\n",
      "1000/1000 [==============================] - 14s 14ms/step - loss: 4270.7021 - mean_squared_error: 4270.7021 - acc: 0.0050\n",
      "Epoch 8/100\n",
      "1000/1000 [==============================] - 17s 17ms/step - loss: 4026.8702 - mean_squared_error: 4026.8702 - acc: 0.0100\n",
      "Epoch 9/100\n",
      "1000/1000 [==============================] - 18s 18ms/step - loss: 3896.4831 - mean_squared_error: 3896.4831 - acc: 0.0100\n",
      "Epoch 10/100\n",
      "1000/1000 [==============================] - 18s 18ms/step - loss: 3787.7530 - mean_squared_error: 3787.7530 - acc: 0.0050\n",
      "Epoch 11/100\n",
      "1000/1000 [==============================] - 14s 14ms/step - loss: 3708.3804 - mean_squared_error: 3708.3804 - acc: 0.0080\n",
      "Epoch 12/100\n",
      "1000/1000 [==============================] - 14s 14ms/step - loss: 3650.9184 - mean_squared_error: 3650.9184 - acc: 0.0080\n",
      "Epoch 13/100\n",
      "1000/1000 [==============================] - 14s 14ms/step - loss: 3598.6908 - mean_squared_error: 3598.6908 - acc: 0.0080\n",
      "Epoch 14/100\n",
      "1000/1000 [==============================] - 14s 14ms/step - loss: 3547.8039 - mean_squared_error: 3547.8039 - acc: 0.0110\n",
      "Epoch 15/100\n",
      "1000/1000 [==============================] - 14s 14ms/step - loss: 3510.7843 - mean_squared_error: 3510.7843 - acc: 0.0100\n",
      "Epoch 16/100\n",
      "1000/1000 [==============================] - 15s 15ms/step - loss: 3496.7001 - mean_squared_error: 3496.7001 - acc: 0.0100\n",
      "Epoch 17/100\n",
      "1000/1000 [==============================] - 15s 15ms/step - loss: 3458.3506 - mean_squared_error: 3458.3506 - acc: 0.0040\n",
      "Epoch 18/100\n",
      "1000/1000 [==============================] - 15s 15ms/step - loss: 3450.5555 - mean_squared_error: 3450.5555 - acc: 0.0110\n",
      "Epoch 19/100\n",
      "1000/1000 [==============================] - 14s 14ms/step - loss: 3414.0840 - mean_squared_error: 3414.0840 - acc: 0.0080\n",
      "Epoch 20/100\n",
      "1000/1000 [==============================] - 14s 14ms/step - loss: 3389.8393 - mean_squared_error: 3389.8393 - acc: 0.0100\n",
      "Epoch 21/100\n",
      "1000/1000 [==============================] - 14s 14ms/step - loss: 3387.9532 - mean_squared_error: 3387.9532 - acc: 0.0080\n",
      "Epoch 22/100\n",
      "1000/1000 [==============================] - 14s 14ms/step - loss: 3359.0687 - mean_squared_error: 3359.0687 - acc: 0.0080\n",
      "Epoch 23/100\n",
      "1000/1000 [==============================] - 14s 14ms/step - loss: 3364.4750 - mean_squared_error: 3364.4750 - acc: 0.0070\n",
      "Epoch 24/100\n",
      "1000/1000 [==============================] - 15s 15ms/step - loss: 3347.5328 - mean_squared_error: 3347.5328 - acc: 0.0070\n",
      "Epoch 25/100\n",
      "1000/1000 [==============================] - 15s 15ms/step - loss: 3331.1179 - mean_squared_error: 3331.1179 - acc: 0.0090\n",
      "Epoch 26/100\n",
      "1000/1000 [==============================] - 16s 16ms/step - loss: 3320.1662 - mean_squared_error: 3320.1662 - acc: 0.0090\n",
      "Epoch 27/100\n",
      "1000/1000 [==============================] - 18s 18ms/step - loss: 3310.1057 - mean_squared_error: 3310.1057 - acc: 0.0080\n",
      "Epoch 28/100\n",
      "1000/1000 [==============================] - 15s 15ms/step - loss: 3305.3416 - mean_squared_error: 3305.3416 - acc: 0.0050\n",
      "Epoch 29/100\n",
      "1000/1000 [==============================] - 14s 14ms/step - loss: 3293.8617 - mean_squared_error: 3293.8617 - acc: 0.0110\n",
      "Epoch 30/100\n",
      "1000/1000 [==============================] - 14s 14ms/step - loss: 3284.0652 - mean_squared_error: 3284.0652 - acc: 0.0080\n",
      "Epoch 31/100\n",
      "1000/1000 [==============================] - 15s 15ms/step - loss: 3274.3158 - mean_squared_error: 3274.3158 - acc: 0.0090\n",
      "Epoch 32/100\n",
      "1000/1000 [==============================] - 15s 15ms/step - loss: 3273.8523 - mean_squared_error: 3273.8523 - acc: 0.0030\n",
      "Epoch 33/100\n",
      "1000/1000 [==============================] - 15s 15ms/step - loss: 3277.5864 - mean_squared_error: 3277.5864 - acc: 0.0130\n",
      "Epoch 34/100\n",
      "1000/1000 [==============================] - 15s 15ms/step - loss: 3256.8845 - mean_squared_error: 3256.8845 - acc: 0.0100\n",
      "Epoch 35/100\n",
      "1000/1000 [==============================] - 15s 15ms/step - loss: 3260.1013 - mean_squared_error: 3260.1013 - acc: 0.0070\n",
      "Epoch 36/100\n",
      "1000/1000 [==============================] - 15s 15ms/step - loss: 3242.5512 - mean_squared_error: 3242.5512 - acc: 0.0080\n",
      "Epoch 37/100\n",
      "1000/1000 [==============================] - 14s 14ms/step - loss: 3240.9177 - mean_squared_error: 3240.9177 - acc: 0.0060\n",
      "Epoch 38/100\n",
      "1000/1000 [==============================] - 14s 14ms/step - loss: 3233.9390 - mean_squared_error: 3233.9390 - acc: 0.0110\n",
      "Epoch 39/100\n",
      "1000/1000 [==============================] - 14s 14ms/step - loss: 3236.9507 - mean_squared_error: 3236.9507 - acc: 0.0090\n",
      "Epoch 40/100\n",
      "1000/1000 [==============================] - 15s 15ms/step - loss: 3235.2899 - mean_squared_error: 3235.2899 - acc: 0.0150\n",
      "Epoch 41/100\n",
      "1000/1000 [==============================] - 14s 14ms/step - loss: 3233.3523 - mean_squared_error: 3233.3523 - acc: 0.0140\n",
      "Epoch 42/100\n",
      "1000/1000 [==============================] - 15s 15ms/step - loss: 3215.9408 - mean_squared_error: 3215.9408 - acc: 0.0170\n",
      "Epoch 43/100\n",
      "1000/1000 [==============================] - 15s 15ms/step - loss: 3216.0888 - mean_squared_error: 3216.0888 - acc: 0.0090\n",
      "Epoch 44/100\n",
      "1000/1000 [==============================] - 14s 14ms/step - loss: 3217.6911 - mean_squared_error: 3217.6911 - acc: 0.0120\n",
      "Epoch 45/100\n",
      "1000/1000 [==============================] - 15s 15ms/step - loss: 3214.1258 - mean_squared_error: 3214.1258 - acc: 0.0080\n",
      "Epoch 46/100\n",
      "1000/1000 [==============================] - 14s 14ms/step - loss: 3202.6488 - mean_squared_error: 3202.6488 - acc: 0.0110\n",
      "Epoch 47/100\n",
      "1000/1000 [==============================] - 15s 15ms/step - loss: 3203.6323 - mean_squared_error: 3203.6323 - acc: 0.0130\n",
      "Epoch 48/100\n",
      "1000/1000 [==============================] - 14s 14ms/step - loss: 3191.1522 - mean_squared_error: 3191.1522 - acc: 0.0080\n",
      "Epoch 49/100\n",
      "1000/1000 [==============================] - 15s 15ms/step - loss: 3194.3557 - mean_squared_error: 3194.3557 - acc: 0.0090\n",
      "Epoch 50/100\n",
      "1000/1000 [==============================] - 15s 15ms/step - loss: 3201.8198 - mean_squared_error: 3201.8198 - acc: 0.0150\n",
      "Epoch 51/100\n",
      "1000/1000 [==============================] - 15s 15ms/step - loss: 3191.7310 - mean_squared_error: 3191.7310 - acc: 0.0160\n",
      "Epoch 52/100\n",
      "1000/1000 [==============================] - 14s 14ms/step - loss: 3184.5200 - mean_squared_error: 3184.5200 - acc: 0.0070\n",
      "Epoch 53/100\n",
      "1000/1000 [==============================] - 14s 14ms/step - loss: 3165.4709 - mean_squared_error: 3165.4709 - acc: 0.0080\n",
      "Epoch 54/100\n",
      "1000/1000 [==============================] - 14s 14ms/step - loss: 3184.5701 - mean_squared_error: 3184.5701 - acc: 0.0070\n",
      "Epoch 55/100\n",
      "1000/1000 [==============================] - 15s 15ms/step - loss: 3175.8601 - mean_squared_error: 3175.8601 - acc: 0.0100\n",
      "Epoch 56/100\n",
      "1000/1000 [==============================] - 15s 15ms/step - loss: 3167.9161 - mean_squared_error: 3167.9161 - acc: 0.0120\n",
      "Epoch 57/100\n",
      "1000/1000 [==============================] - 15s 15ms/step - loss: 3158.6114 - mean_squared_error: 3158.6114 - acc: 0.0160\n",
      "Epoch 58/100\n",
      "1000/1000 [==============================] - 14s 14ms/step - loss: 3161.4785 - mean_squared_error: 3161.4785 - acc: 0.0160\n",
      "Epoch 59/100\n",
      "1000/1000 [==============================] - 14s 14ms/step - loss: 3158.5462 - mean_squared_error: 3158.5462 - acc: 0.0130\n",
      "Epoch 60/100\n",
      "1000/1000 [==============================] - 14s 14ms/step - loss: 3161.6239 - mean_squared_error: 3161.6239 - acc: 0.0150\n",
      "Epoch 61/100\n",
      "1000/1000 [==============================] - 14s 14ms/step - loss: 3153.1875 - mean_squared_error: 3153.1875 - acc: 0.0080\n",
      "Epoch 62/100\n",
      "1000/1000 [==============================] - 14s 14ms/step - loss: 3157.0720 - mean_squared_error: 3157.0720 - acc: 0.0130\n",
      "Epoch 63/100\n",
      "1000/1000 [==============================] - 14s 14ms/step - loss: 3142.0333 - mean_squared_error: 3142.0333 - acc: 0.0130\n",
      "Epoch 64/100\n",
      "1000/1000 [==============================] - 14s 14ms/step - loss: 3149.3268 - mean_squared_error: 3149.3268 - acc: 0.0110\n",
      "Epoch 65/100\n",
      "1000/1000 [==============================] - 14s 14ms/step - loss: 3151.1562 - mean_squared_error: 3151.1562 - acc: 0.0140\n",
      "Epoch 66/100\n",
      "1000/1000 [==============================] - 14s 14ms/step - loss: 3150.5729 - mean_squared_error: 3150.5729 - acc: 0.0150\n",
      "Epoch 67/100\n",
      "1000/1000 [==============================] - 14s 14ms/step - loss: 3137.0610 - mean_squared_error: 3137.0610 - acc: 0.0090\n",
      "Epoch 68/100\n",
      "1000/1000 [==============================] - 14s 14ms/step - loss: 3128.6014 - mean_squared_error: 3128.6014 - acc: 0.0120\n",
      "Epoch 69/100\n",
      "1000/1000 [==============================] - 14s 14ms/step - loss: 3123.1831 - mean_squared_error: 3123.1831 - acc: 0.0090\n",
      "Epoch 70/100\n",
      "1000/1000 [==============================] - 14s 14ms/step - loss: 3124.8391 - mean_squared_error: 3124.8391 - acc: 0.0090\n",
      "Epoch 71/100\n",
      "1000/1000 [==============================] - 15s 15ms/step - loss: 3111.9675 - mean_squared_error: 3111.9675 - acc: 0.0100\n",
      "Epoch 72/100\n",
      "1000/1000 [==============================] - 16s 16ms/step - loss: 3122.3762 - mean_squared_error: 3122.3762 - acc: 0.0180\n",
      "Epoch 73/100\n",
      "1000/1000 [==============================] - 14s 14ms/step - loss: 3116.2126 - mean_squared_error: 3116.2126 - acc: 0.0190\n",
      "Epoch 74/100\n",
      "1000/1000 [==============================] - 15s 15ms/step - loss: 3118.1197 - mean_squared_error: 3118.1197 - acc: 0.0100\n",
      "Epoch 75/100\n",
      "1000/1000 [==============================] - 14s 14ms/step - loss: 3110.2072 - mean_squared_error: 3110.2072 - acc: 0.0150\n",
      "Epoch 76/100\n",
      "1000/1000 [==============================] - 14s 14ms/step - loss: 3117.0485 - mean_squared_error: 3117.0485 - acc: 0.0130\n",
      "Epoch 77/100\n",
      "1000/1000 [==============================] - 14s 14ms/step - loss: 3098.6110 - mean_squared_error: 3098.6110 - acc: 0.0100\n",
      "Epoch 78/100\n",
      "1000/1000 [==============================] - 14s 14ms/step - loss: 3096.8775 - mean_squared_error: 3096.8775 - acc: 0.0140\n",
      "Epoch 79/100\n",
      "1000/1000 [==============================] - 14s 14ms/step - loss: 3097.7661 - mean_squared_error: 3097.7661 - acc: 0.0140\n",
      "Epoch 80/100\n",
      "1000/1000 [==============================] - 17s 17ms/step - loss: 3085.8599 - mean_squared_error: 3085.8599 - acc: 0.0110\n",
      "Epoch 81/100\n",
      "1000/1000 [==============================] - 15s 15ms/step - loss: 3088.9187 - mean_squared_error: 3088.9187 - acc: 0.0080\n",
      "Epoch 82/100\n",
      "1000/1000 [==============================] - 14s 14ms/step - loss: 3081.1436 - mean_squared_error: 3081.1436 - acc: 0.0180\n",
      "Epoch 83/100\n",
      "1000/1000 [==============================] - 14s 14ms/step - loss: 3078.7108 - mean_squared_error: 3078.7108 - acc: 0.0150\n",
      "Epoch 84/100\n",
      "1000/1000 [==============================] - 14s 14ms/step - loss: 3077.5342 - mean_squared_error: 3077.5342 - acc: 0.0140\n",
      "Epoch 85/100\n",
      "1000/1000 [==============================] - 14s 14ms/step - loss: 3077.2971 - mean_squared_error: 3077.2971 - acc: 0.0170\n",
      "Epoch 86/100\n",
      "1000/1000 [==============================] - 14s 14ms/step - loss: 3063.6537 - mean_squared_error: 3063.6537 - acc: 0.0160\n",
      "Epoch 87/100\n",
      "1000/1000 [==============================] - 14s 14ms/step - loss: 3071.7143 - mean_squared_error: 3071.7143 - acc: 0.0140\n",
      "Epoch 88/100\n",
      "1000/1000 [==============================] - 14s 14ms/step - loss: 3066.0987 - mean_squared_error: 3066.0987 - acc: 0.0130\n",
      "Epoch 89/100\n",
      "1000/1000 [==============================] - 14s 14ms/step - loss: 3062.1516 - mean_squared_error: 3062.1516 - acc: 0.0120\n",
      "Epoch 90/100\n",
      "1000/1000 [==============================] - 14s 14ms/step - loss: 3066.8732 - mean_squared_error: 3066.8732 - acc: 0.0130\n",
      "Epoch 91/100\n",
      "1000/1000 [==============================] - 14s 14ms/step - loss: 3040.6693 - mean_squared_error: 3040.6693 - acc: 0.0130\n",
      "Epoch 92/100\n",
      "1000/1000 [==============================] - 14s 14ms/step - loss: 3067.3935 - mean_squared_error: 3067.3935 - acc: 0.0120\n",
      "Epoch 93/100\n",
      "1000/1000 [==============================] - 14s 14ms/step - loss: 3048.4052 - mean_squared_error: 3048.4052 - acc: 0.0080\n",
      "Epoch 94/100\n",
      "1000/1000 [==============================] - 14s 14ms/step - loss: 3049.3065 - mean_squared_error: 3049.3065 - acc: 0.0120\n",
      "Epoch 95/100\n",
      "1000/1000 [==============================] - 14s 14ms/step - loss: 3035.0353 - mean_squared_error: 3035.0353 - acc: 0.0100\n",
      "Epoch 96/100\n",
      "1000/1000 [==============================] - 14s 14ms/step - loss: 3042.2885 - mean_squared_error: 3042.2885 - acc: 0.0160\n",
      "Epoch 97/100\n",
      "1000/1000 [==============================] - 14s 14ms/step - loss: 3045.5304 - mean_squared_error: 3045.5304 - acc: 0.0190\n",
      "Epoch 98/100\n",
      "1000/1000 [==============================] - 14s 14ms/step - loss: 3030.6493 - mean_squared_error: 3030.6493 - acc: 0.0130\n",
      "Epoch 99/100\n",
      "1000/1000 [==============================] - 15s 15ms/step - loss: 3037.5062 - mean_squared_error: 3037.5062 - acc: 0.0130\n",
      "Epoch 100/100\n",
      "1000/1000 [==============================] - 15s 15ms/step - loss: 3032.3959 - mean_squared_error: 3032.3959 - acc: 0.0140\n"
     ]
    },
    {
     "data": {
      "text/plain": [
       "<keras.callbacks.History at 0x28da7566780>"
      ]
     },
     "execution_count": 89,
     "metadata": {},
     "output_type": "execute_result"
    }
   ],
   "source": [
    "model = Sequential()\n",
    "\n",
    "model.add(Dense(len(X_train.columns), input_dim=len(X_train.columns),\n",
    "                kernel_initializer='normal', activation='relu'))\n",
    "model.add(Dense(8, kernel_initializer='normal', activation='relu'))\n",
    "model.add(Dense(1, kernel_initializer='normal'))\n",
    "\n",
    "model.compile(loss='mse', optimizer='adam', metrics=['mse', 'acc'])\n",
    "\n",
    "\n",
    "reduce_lr = ReduceLROnPlateau(monitor='val_loss', factor=0.2,\n",
    "                              patience=5, min_lr=0.001)\n",
    "model.fit(X_train, y_train, epochs=100, batch_size=10, callbacks=[reduce_lr])"
   ]
  },
  {
   "cell_type": "code",
   "execution_count": 91,
   "metadata": {},
   "outputs": [],
   "source": [
    "# Prediction\n",
    "y_pred = model.predict(X_test, batch_size=10)\n",
    "submission = pd.DataFrame(np.c_[X_test.index, y_pred], columns=['Id', 'price'])\n",
    "submission.to_csv('kaggle_submission.csv',  index=False)"
   ]
  },
  {
   "cell_type": "markdown",
   "metadata": {},
   "source": [
    "# Extra EDA\n",
    "Below is for helping determine what predictors to log-transform, as well as identify potential interactions"
   ]
  },
  {
   "cell_type": "code",
   "execution_count": null,
   "metadata": {},
   "outputs": [],
   "source": [
    "# EDA to help determine logs\n",
    "def hist(series):\n",
    "    fig, ax = plt.subplots()\n",
    "    sns.distplot(series, ax=ax,\n",
    "                 hist_kws={'alpha': 0.75,\n",
    "                           'edgecolor':'black',\n",
    "                           'color': sns.color_palette('Greens')[-1]},  \n",
    "                 kde_kws={'color': 'black', 'alpha': 0.9})\n",
    "    return plt.show()\n",
    "\n",
    "for i in data.columns:\n",
    "    hist(data[i])"
   ]
  },
  {
   "cell_type": "code",
   "execution_count": null,
   "metadata": {},
   "outputs": [],
   "source": [
    "# Potential interactions?\n",
    "sns.lmplot('security_deposit', 'price', data=data_temp, hue='is_business_travel_ready', size=6, aspect=1.2, scatter_kws={'s': 30}, ci=None)\n",
    "plt.show()\n",
    "\n",
    "sns.lmplot('security_deposit', 'price', data=data_temp, hue='host_identity_verified', size=6, aspect=1.2, scatter_kws={'s': 30}, ci=None)\n",
    "plt.show()\n",
    "\n",
    "sns.lmplot('review_scores_rating', 'price', data=data_temp, hue='instant_bookable', size=6, aspect=1.2, scatter_kws={'s': 30}, ci=None)\n",
    "plt.show()"
   ]
  }
 ],
 "metadata": {
  "kernelspec": {
   "display_name": "Python 3",
   "language": "python",
   "name": "python3"
  },
  "language_info": {
   "codemirror_mode": {
    "name": "ipython",
    "version": 3
   },
   "file_extension": ".py",
   "mimetype": "text/x-python",
   "name": "python",
   "nbconvert_exporter": "python",
   "pygments_lexer": "ipython3",
   "version": "3.6.4"
  }
 },
 "nbformat": 4,
 "nbformat_minor": 2
}
